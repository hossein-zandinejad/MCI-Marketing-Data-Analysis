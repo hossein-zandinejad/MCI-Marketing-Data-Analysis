{
 "cells": [
  {
   "attachments": {},
   "cell_type": "markdown",
   "metadata": {},
   "source": [
    "# Project Overview: Analyzing User and Message Metrics\n",
    "\n",
    "## Introduction\n",
    "This project focuses on analyzing user and message-related metrics to gain insights into user activity and messaging behavior over time. The analysis encompasses various aspects, including trend analysis, statistical testing, and goal-oriented assessments.\n",
    "\n",
    "## Project Steps\n",
    "The project involves the following key steps:\n",
    "\n",
    "1. **Data Loading and Preprocessing**\n",
    "   - Importing required libraries for data analysis and visualization.\n",
    "   - Loading a dataset from an Excel file and renaming columns for clarity.\n",
    "\n",
    "2. **General Analysis**\n",
    "   - Creating line plots to visualize trends in Active Users, New Users, and Message Count.\n",
    "   \n",
    "3. **Relationship Between Indicators**\n",
    "   - Generating a heatmap to visualize the correlation matrix between various indicators.\n",
    "\n",
    "4. **Analyze Traffic Consumption**\n",
    "   - Creating a line plot to analyze the trend in Average Traffic per User.\n",
    "\n",
    "5. **Trend Analysis for Message-Related Metrics**\n",
    "   - Creating line plots to analyze trends in Message Count, Message Forwards, and Message Views.\n",
    "\n",
    "6. **Trend Analysis for Channel-Related Metrics**\n",
    "   - Creating line plots to analyze trends in New Channels, Channel Subscriptions, and Effective Channel Users.\n",
    "\n",
    "7. **Goal-Oriented Analysis**\n",
    "   - Setting a goal to increase traffic by 20% and calculating the necessary increase.\n",
    "   - Estimating the impact of changes in metrics on traffic consumption.\n",
    "   \n",
    "8. **Statistical Analysis: Rolling Averages**\n",
    "   - Calculating 7-day rolling averages for Message Count and Message Forwards.\n",
    "\n",
    "9. **Statistical Analysis: Trend Analysis**\n",
    "   - Performing linear regression to analyze trends in Message Count and Message Forwards.\n",
    "\n",
    "10. **Statistical Analysis: Hypothesis Testing**\n",
    "    - Comparing the means of Message Count and Message Forwards using a t-test.\n",
    "\n",
    "11. **Summary and Reporting**\n",
    "    - Creating a structured table to summarize key results.\n",
    "    - Displaying the summary of trend analysis.\n",
    "\n",
    "12. **Additional Visualizations**\n",
    "    - Creating line plots to visualize the 7-day rolling averages of Message Count and Message Forwards.\n",
    "\n",
    "## Conclusion\n",
    "This project offers a comprehensive analysis of user and message metrics, providing valuable insights into trends, relationships, and the impact of changes. The results are summarized and presented in a structured manner, aiding in informed decision-making and future planning.\n",
    "\n",
    "Through a combination of data visualization, statistical analysis, and hypothesis testing, this project contributes to a deeper understanding of user behavior and message dynamics within the dataset.\n"
   ]
  },
  {
   "attachments": {},
   "cell_type": "markdown",
   "metadata": {},
   "source": [
    "## Importing Required Libraries\n",
    "\n",
    "I start by importing the necessary Python libraries for my data analysis and visualization. The libraries I import include:\n",
    "- `pandas` for data manipulation\n",
    "- `plotly.express` as `px` for interactive data visualization\n",
    "- `numpy` as `np` for numerical operations\n",
    "- `statsmodels.api` as `sm` for statistical modeling\n",
    "- `scipy.stats` as `stats` for statistical functions\n",
    "- `tabulate` for tabulating data.\n",
    "\n",
    "These libraries will be used in subsequent code cells for data analysis and visualization."
   ]
  },
  {
   "cell_type": "code",
   "execution_count": 1,
   "metadata": {},
   "outputs": [],
   "source": [
    "import pandas as pd\n",
    "import plotly.express as px\n",
    "import numpy as np\n",
    "import statsmodels.api as sm\n",
    "from scipy import stats\n",
    "import tabulate"
   ]
  },
  {
   "attachments": {},
   "cell_type": "markdown",
   "metadata": {},
   "source": [
    "## Load the dataset from Excel\n",
    "\n",
    "In this code cell, I load a dataset from an Excel file named \"Dataset.xlsx.\" This dataset likely contains valuable information that I'll use for further analysis. After loading the data, I'll proceed to make it more accessible by renaming the columns to English for easier reference.\n"
   ]
  },
  {
   "attachments": {},
   "cell_type": "markdown",
   "metadata": {},
   "source": [
    "### Rename the columns to English for easier access\n",
    "\n",
    "In this code cell, I rename the columns of the loaded dataset to English names. This step is taken to ensure that the columns are easily understood and can be referenced more conveniently in subsequent data analysis and visualization tasks. \n",
    "\n",
    "The new column names are as follows:\n",
    "- 'Day' for the day of the data entry\n",
    "- 'Active_Users' for the number of active users\n",
    "- 'Avg_Traffic_Per_User' for the average traffic per user\n",
    "- 'New_Users' for the number of new users\n",
    "- 'Message_Count' for the count of messages\n",
    "- 'Live_Count' for live counts\n",
    "- 'Audio_Video_Calls' for audio and video calls\n",
    "- 'Message_Forwards' for forwarded messages\n",
    "- 'Channel_Messages' for messages in channels\n",
    "- 'Message_Views' for message views\n",
    "- 'Effective_Channel_Users' for effective channel users\n",
    "- 'New_Channels' for new channels\n",
    "- 'Channel_Subscriptions' for channel subscriptions\n",
    "\n",
    "After renaming, I'll display the first few rows of the dataset to verify the changes."
   ]
  },
  {
   "cell_type": "code",
   "execution_count": 2,
   "metadata": {},
   "outputs": [
    {
     "data": {
      "text/html": [
       "<div>\n",
       "<style scoped>\n",
       "    .dataframe tbody tr th:only-of-type {\n",
       "        vertical-align: middle;\n",
       "    }\n",
       "\n",
       "    .dataframe tbody tr th {\n",
       "        vertical-align: top;\n",
       "    }\n",
       "\n",
       "    .dataframe thead th {\n",
       "        text-align: right;\n",
       "    }\n",
       "</style>\n",
       "<table border=\"1\" class=\"dataframe\">\n",
       "  <thead>\n",
       "    <tr style=\"text-align: right;\">\n",
       "      <th></th>\n",
       "      <th>Day</th>\n",
       "      <th>Active_Users</th>\n",
       "      <th>Avg_Traffic_Per_User</th>\n",
       "      <th>New_Users</th>\n",
       "      <th>Message_Count</th>\n",
       "      <th>Live_Count</th>\n",
       "      <th>Audio_Video_Calls</th>\n",
       "      <th>Message_Forwards</th>\n",
       "      <th>Channel_Messages</th>\n",
       "      <th>Message_Views</th>\n",
       "      <th>Effective_Channel_Users</th>\n",
       "      <th>New_Channels</th>\n",
       "      <th>Channel_Subscriptions</th>\n",
       "    </tr>\n",
       "  </thead>\n",
       "  <tbody>\n",
       "    <tr>\n",
       "      <th>0</th>\n",
       "      <td>1</td>\n",
       "      <td>35072000.0</td>\n",
       "      <td>237.920</td>\n",
       "      <td>195648.0</td>\n",
       "      <td>2208758400</td>\n",
       "      <td>373088</td>\n",
       "      <td>14495296</td>\n",
       "      <td>50504320</td>\n",
       "      <td>11465024</td>\n",
       "      <td>13024512000</td>\n",
       "      <td>31874742.4</td>\n",
       "      <td>53968</td>\n",
       "      <td>17173888</td>\n",
       "    </tr>\n",
       "    <tr>\n",
       "      <th>1</th>\n",
       "      <td>2</td>\n",
       "      <td>34656000.0</td>\n",
       "      <td>237.600</td>\n",
       "      <td>195193.6</td>\n",
       "      <td>2232246400</td>\n",
       "      <td>359136</td>\n",
       "      <td>14689856</td>\n",
       "      <td>66035840</td>\n",
       "      <td>14879584</td>\n",
       "      <td>10912576000</td>\n",
       "      <td>32196083.2</td>\n",
       "      <td>66112</td>\n",
       "      <td>21804512</td>\n",
       "    </tr>\n",
       "    <tr>\n",
       "      <th>2</th>\n",
       "      <td>3</td>\n",
       "      <td>34656000.0</td>\n",
       "      <td>241.984</td>\n",
       "      <td>190816.0</td>\n",
       "      <td>2195232000</td>\n",
       "      <td>386272</td>\n",
       "      <td>14534720</td>\n",
       "      <td>64631040</td>\n",
       "      <td>14693280</td>\n",
       "      <td>15330752000</td>\n",
       "      <td>32508924.8</td>\n",
       "      <td>66480</td>\n",
       "      <td>23730528</td>\n",
       "    </tr>\n",
       "    <tr>\n",
       "      <th>3</th>\n",
       "      <td>4</td>\n",
       "      <td>34144000.0</td>\n",
       "      <td>240.896</td>\n",
       "      <td>189081.6</td>\n",
       "      <td>2111395200</td>\n",
       "      <td>413888</td>\n",
       "      <td>14008320</td>\n",
       "      <td>62546560</td>\n",
       "      <td>14537344</td>\n",
       "      <td>17961344000</td>\n",
       "      <td>32078841.6</td>\n",
       "      <td>67664</td>\n",
       "      <td>23700960</td>\n",
       "    </tr>\n",
       "    <tr>\n",
       "      <th>4</th>\n",
       "      <td>5</td>\n",
       "      <td>33184000.0</td>\n",
       "      <td>250.656</td>\n",
       "      <td>185542.4</td>\n",
       "      <td>2211222400</td>\n",
       "      <td>439552</td>\n",
       "      <td>13206176</td>\n",
       "      <td>62179840</td>\n",
       "      <td>14375008</td>\n",
       "      <td>21135840000</td>\n",
       "      <td>31338800.0</td>\n",
       "      <td>68512</td>\n",
       "      <td>22110848</td>\n",
       "    </tr>\n",
       "  </tbody>\n",
       "</table>\n",
       "</div>"
      ],
      "text/plain": [
       "   Day  Active_Users  Avg_Traffic_Per_User  New_Users  Message_Count  \\\n",
       "0    1    35072000.0               237.920   195648.0     2208758400   \n",
       "1    2    34656000.0               237.600   195193.6     2232246400   \n",
       "2    3    34656000.0               241.984   190816.0     2195232000   \n",
       "3    4    34144000.0               240.896   189081.6     2111395200   \n",
       "4    5    33184000.0               250.656   185542.4     2211222400   \n",
       "\n",
       "   Live_Count  Audio_Video_Calls  Message_Forwards  Channel_Messages  \\\n",
       "0      373088           14495296          50504320          11465024   \n",
       "1      359136           14689856          66035840          14879584   \n",
       "2      386272           14534720          64631040          14693280   \n",
       "3      413888           14008320          62546560          14537344   \n",
       "4      439552           13206176          62179840          14375008   \n",
       "\n",
       "   Message_Views  Effective_Channel_Users  New_Channels  Channel_Subscriptions  \n",
       "0    13024512000               31874742.4         53968               17173888  \n",
       "1    10912576000               32196083.2         66112               21804512  \n",
       "2    15330752000               32508924.8         66480               23730528  \n",
       "3    17961344000               32078841.6         67664               23700960  \n",
       "4    21135840000               31338800.0         68512               22110848  "
      ]
     },
     "execution_count": 2,
     "metadata": {},
     "output_type": "execute_result"
    }
   ],
   "source": [
    "# Load the dataset from Excel\n",
    "df = pd.read_excel(\"dataset/Dataset.xlsx\")\n",
    "\n",
    "# Rename the columns to English for easier access\n",
    "df.columns = ['Day', 'Active_Users', 'Avg_Traffic_Per_User', 'New_Users', 'Message_Count', 'Live_Count',\n",
    "              'Audio_Video_Calls', 'Message_Forwards', 'Channel_Messages', 'Message_Views', 'Effective_Channel_Users',\n",
    "              'New_Channels', 'Channel_Subscriptions']\n",
    "\n",
    "df.head()"
   ]
  },
  {
   "attachments": {},
   "cell_type": "markdown",
   "metadata": {},
   "source": [
    "## 1) General Analysis\n",
    "\n",
    "I perform a general analysis of the dataset and create line plots to visualize trends in user activity and messaging over time. Specifically, I create line plots for three key metrics: Active Users, New Users, and Message Count.\n",
    "\n",
    "- I use the `px.line` function from the Plotly Express library to create these line plots.\n",
    "- The x-axis represents the 'Day' variable, indicating the timeline.\n",
    "- The y-axis displays the counts for 'Active_Users', 'New_Users', and 'Message_Count'.\n",
    "- The title of the plot is set as 'Trends in User Activity and Messaging'.\n",
    "- I update the x-axis and y-axis labels to 'Day' and 'Count', respectively, to make the plot more informative.\n",
    "\n",
    "These visualizations will help me gain insights into the trends and patterns of user activity and messaging within the dataset.\n"
   ]
  },
  {
   "cell_type": "code",
   "execution_count": 3,
   "metadata": {},
   "outputs": [],
   "source": [
    "# 1) General Analysis\n",
    "# Create line plots for Active Users, New Users, and Message Count\n",
    "fig1 = px.line(df, x='Day', y=['Active_Users', 'New_Users', 'Message_Count'], title='Trends in User Activity and Messaging')\n",
    "fig1.update_xaxes(title_text='Day')\n",
    "fig1.update_yaxes(title_text='Count')\n",
    "plotly_dark_template = \"plotly_dark\"\n",
    "# fig1.update_layout(template=plotly_dark_template)"
   ]
  },
  {
   "attachments": {},
   "cell_type": "markdown",
   "metadata": {},
   "source": [
    "![plot](plots/1.png)"
   ]
  },
  {
   "attachments": {},
   "cell_type": "markdown",
   "metadata": {},
   "source": [
    "## 2) Relationship between Indicators\n",
    "\n",
    "I create a heatmap to visualize the correlation matrix of the dataset, exploring the relationships between various indicators. This heatmap provides insights into how different variables are correlated with each other.\n",
    "\n",
    "- I use the `px.imshow` function from the Plotly Express library to create the heatmap.\n",
    "- The correlation matrix is computed using the `corr()` function on the dataset.\n",
    "- The x-axis and y-axis represent the column names of the dataset, indicating the variables being compared.\n",
    "- The color scale 'Viridis' is used to represent the strength of correlations, with different colors indicating different correlation values.\n",
    "- The title of the heatmap is set as 'Correlation Matrix.'\n",
    "\n",
    "The heatmap helps me understand the relationships and dependencies between different indicators in the dataset, which is crucial for further analysis and decision-making."
   ]
  },
  {
   "cell_type": "code",
   "execution_count": 4,
   "metadata": {},
   "outputs": [],
   "source": [
    "# 2) Relationship between Indicators\n",
    "# Create a heatmap to visualize the correlation matrix\n",
    "fig2 = px.imshow(df.corr(), x=df.columns, y=df.columns, color_continuous_scale='Viridis', title='Correlation Matrix')\n",
    "# fig2.update_layout(template=plotly_dark_template)"
   ]
  },
  {
   "attachments": {},
   "cell_type": "markdown",
   "metadata": {},
   "source": [
    "![plot](plots/2.png)"
   ]
  },
  {
   "attachments": {},
   "cell_type": "markdown",
   "metadata": {},
   "source": [
    "## 3) Analyze Traffic Consumption\n",
    "\n",
    "I create a line plot to analyze the trend in traffic consumption over time. This plot focuses specifically on the 'Average Traffic per User' metric, which provides insights into how much traffic, on average, each user generates.\n",
    "\n",
    "- I use the `px.line` function from the Plotly Express library to create the line plot.\n",
    "- The x-axis represents the 'Day' variable, indicating the timeline.\n",
    "- The y-axis represents 'Avg_Traffic_Per_User,' showing the average traffic consumption per user.\n",
    "- The title of the plot is set as 'Trend in Traffic Consumption.'\n",
    "- I update the x-axis and y-axis labels to 'Day' and 'Traffic Consumption,' respectively, to provide clear information.\n",
    "\n",
    "This visualization allows me to understand how traffic consumption per user changes over time, which is crucial for assessing user engagement and network performance.\n"
   ]
  },
  {
   "cell_type": "code",
   "execution_count": 5,
   "metadata": {},
   "outputs": [
    {
     "data": {
      "application/vnd.plotly.v1+json": {
       "config": {
        "plotlyServerURL": "https://plot.ly"
       },
       "data": [
        {
         "hovertemplate": "Day=%{x}<br>Avg_Traffic_Per_User=%{y}<extra></extra>",
         "legendgroup": "",
         "line": {
          "color": "#636efa",
          "dash": "solid"
         },
         "marker": {
          "symbol": "circle"
         },
         "mode": "lines",
         "name": "",
         "orientation": "v",
         "showlegend": false,
         "type": "scatter",
         "x": [
          1,
          2,
          3,
          4,
          5,
          6,
          7,
          8,
          9,
          10,
          11,
          12,
          13,
          14,
          15,
          16,
          17,
          18,
          19,
          20,
          21,
          22,
          23,
          24,
          25,
          26,
          27,
          28,
          29,
          30,
          31,
          32,
          33,
          34,
          35,
          36,
          37,
          38,
          39,
          40,
          41,
          42,
          43,
          44,
          45,
          46,
          47,
          48,
          49,
          50,
          51,
          52,
          53,
          54,
          55,
          56,
          57,
          58,
          59,
          60,
          61,
          62,
          63,
          64,
          65,
          66,
          67,
          68,
          69,
          70,
          71,
          72,
          73,
          74,
          75,
          76,
          77,
          78,
          79,
          80,
          81,
          82,
          83,
          84,
          85,
          86,
          87,
          88,
          89,
          90,
          91,
          92
         ],
         "xaxis": "x",
         "y": [
          237.92,
          237.60000000000002,
          241.98400000000004,
          240.89600000000002,
          250.656,
          254.68800000000002,
          244.608,
          252.32,
          248.768,
          246.78400000000002,
          246.272,
          259.776,
          263.872,
          273.664,
          270.208,
          257.504,
          266.17600000000004,
          270.912,
          272.67199999999997,
          275.872,
          282.816,
          265.44,
          265.92,
          290.944,
          258.816,
          269.12,
          264.73600000000005,
          259.072,
          260.576,
          275.552,
          234.208,
          232.864,
          238.4,
          227.04000000000002,
          216.064,
          221.952,
          224.672,
          218.43200000000002,
          213.47199999999998,
          210.208,
          199.712,
          197.952,
          195.008,
          195.872,
          199.168,
          190.336,
          196.89600000000002,
          198.68800000000002,
          208.544,
          205.76,
          199.424,
          202.336,
          207.42399999999998,
          221.63200000000003,
          216.416,
          213.664,
          202.24,
          211.32800000000003,
          221.216,
          230.78400000000002,
          244.83200000000002,
          236.544,
          234.816,
          222.08000000000004,
          223.84000000000003,
          223.61599999999999,
          216.416,
          213.72800000000004,
          228.16,
          232.672,
          236.96,
          252.83200000000002,
          253.37600000000003,
          257.856,
          279.52,
          269.79200000000003,
          271.872,
          273.568,
          265.728,
          264.48,
          265.856,
          275.52,
          266.71999999999997,
          259.136,
          253.47199999999998,
          258.016,
          272.73600000000005,
          267.616,
          262.24,
          250.112,
          256.03200000000004,
          225.53600000000003
         ],
         "yaxis": "y"
        }
       ],
       "layout": {
        "legend": {
         "tracegroupgap": 0
        },
        "template": {
         "data": {
          "bar": [
           {
            "error_x": {
             "color": "#f2f5fa"
            },
            "error_y": {
             "color": "#f2f5fa"
            },
            "marker": {
             "line": {
              "color": "rgb(17,17,17)",
              "width": 0.5
             },
             "pattern": {
              "fillmode": "overlay",
              "size": 10,
              "solidity": 0.2
             }
            },
            "type": "bar"
           }
          ],
          "barpolar": [
           {
            "marker": {
             "line": {
              "color": "rgb(17,17,17)",
              "width": 0.5
             },
             "pattern": {
              "fillmode": "overlay",
              "size": 10,
              "solidity": 0.2
             }
            },
            "type": "barpolar"
           }
          ],
          "carpet": [
           {
            "aaxis": {
             "endlinecolor": "#A2B1C6",
             "gridcolor": "#506784",
             "linecolor": "#506784",
             "minorgridcolor": "#506784",
             "startlinecolor": "#A2B1C6"
            },
            "baxis": {
             "endlinecolor": "#A2B1C6",
             "gridcolor": "#506784",
             "linecolor": "#506784",
             "minorgridcolor": "#506784",
             "startlinecolor": "#A2B1C6"
            },
            "type": "carpet"
           }
          ],
          "choropleth": [
           {
            "colorbar": {
             "outlinewidth": 0,
             "ticks": ""
            },
            "type": "choropleth"
           }
          ],
          "contour": [
           {
            "colorbar": {
             "outlinewidth": 0,
             "ticks": ""
            },
            "colorscale": [
             [
              0,
              "#0d0887"
             ],
             [
              0.1111111111111111,
              "#46039f"
             ],
             [
              0.2222222222222222,
              "#7201a8"
             ],
             [
              0.3333333333333333,
              "#9c179e"
             ],
             [
              0.4444444444444444,
              "#bd3786"
             ],
             [
              0.5555555555555556,
              "#d8576b"
             ],
             [
              0.6666666666666666,
              "#ed7953"
             ],
             [
              0.7777777777777778,
              "#fb9f3a"
             ],
             [
              0.8888888888888888,
              "#fdca26"
             ],
             [
              1,
              "#f0f921"
             ]
            ],
            "type": "contour"
           }
          ],
          "contourcarpet": [
           {
            "colorbar": {
             "outlinewidth": 0,
             "ticks": ""
            },
            "type": "contourcarpet"
           }
          ],
          "heatmap": [
           {
            "colorbar": {
             "outlinewidth": 0,
             "ticks": ""
            },
            "colorscale": [
             [
              0,
              "#0d0887"
             ],
             [
              0.1111111111111111,
              "#46039f"
             ],
             [
              0.2222222222222222,
              "#7201a8"
             ],
             [
              0.3333333333333333,
              "#9c179e"
             ],
             [
              0.4444444444444444,
              "#bd3786"
             ],
             [
              0.5555555555555556,
              "#d8576b"
             ],
             [
              0.6666666666666666,
              "#ed7953"
             ],
             [
              0.7777777777777778,
              "#fb9f3a"
             ],
             [
              0.8888888888888888,
              "#fdca26"
             ],
             [
              1,
              "#f0f921"
             ]
            ],
            "type": "heatmap"
           }
          ],
          "heatmapgl": [
           {
            "colorbar": {
             "outlinewidth": 0,
             "ticks": ""
            },
            "colorscale": [
             [
              0,
              "#0d0887"
             ],
             [
              0.1111111111111111,
              "#46039f"
             ],
             [
              0.2222222222222222,
              "#7201a8"
             ],
             [
              0.3333333333333333,
              "#9c179e"
             ],
             [
              0.4444444444444444,
              "#bd3786"
             ],
             [
              0.5555555555555556,
              "#d8576b"
             ],
             [
              0.6666666666666666,
              "#ed7953"
             ],
             [
              0.7777777777777778,
              "#fb9f3a"
             ],
             [
              0.8888888888888888,
              "#fdca26"
             ],
             [
              1,
              "#f0f921"
             ]
            ],
            "type": "heatmapgl"
           }
          ],
          "histogram": [
           {
            "marker": {
             "pattern": {
              "fillmode": "overlay",
              "size": 10,
              "solidity": 0.2
             }
            },
            "type": "histogram"
           }
          ],
          "histogram2d": [
           {
            "colorbar": {
             "outlinewidth": 0,
             "ticks": ""
            },
            "colorscale": [
             [
              0,
              "#0d0887"
             ],
             [
              0.1111111111111111,
              "#46039f"
             ],
             [
              0.2222222222222222,
              "#7201a8"
             ],
             [
              0.3333333333333333,
              "#9c179e"
             ],
             [
              0.4444444444444444,
              "#bd3786"
             ],
             [
              0.5555555555555556,
              "#d8576b"
             ],
             [
              0.6666666666666666,
              "#ed7953"
             ],
             [
              0.7777777777777778,
              "#fb9f3a"
             ],
             [
              0.8888888888888888,
              "#fdca26"
             ],
             [
              1,
              "#f0f921"
             ]
            ],
            "type": "histogram2d"
           }
          ],
          "histogram2dcontour": [
           {
            "colorbar": {
             "outlinewidth": 0,
             "ticks": ""
            },
            "colorscale": [
             [
              0,
              "#0d0887"
             ],
             [
              0.1111111111111111,
              "#46039f"
             ],
             [
              0.2222222222222222,
              "#7201a8"
             ],
             [
              0.3333333333333333,
              "#9c179e"
             ],
             [
              0.4444444444444444,
              "#bd3786"
             ],
             [
              0.5555555555555556,
              "#d8576b"
             ],
             [
              0.6666666666666666,
              "#ed7953"
             ],
             [
              0.7777777777777778,
              "#fb9f3a"
             ],
             [
              0.8888888888888888,
              "#fdca26"
             ],
             [
              1,
              "#f0f921"
             ]
            ],
            "type": "histogram2dcontour"
           }
          ],
          "mesh3d": [
           {
            "colorbar": {
             "outlinewidth": 0,
             "ticks": ""
            },
            "type": "mesh3d"
           }
          ],
          "parcoords": [
           {
            "line": {
             "colorbar": {
              "outlinewidth": 0,
              "ticks": ""
             }
            },
            "type": "parcoords"
           }
          ],
          "pie": [
           {
            "automargin": true,
            "type": "pie"
           }
          ],
          "scatter": [
           {
            "marker": {
             "line": {
              "color": "#283442"
             }
            },
            "type": "scatter"
           }
          ],
          "scatter3d": [
           {
            "line": {
             "colorbar": {
              "outlinewidth": 0,
              "ticks": ""
             }
            },
            "marker": {
             "colorbar": {
              "outlinewidth": 0,
              "ticks": ""
             }
            },
            "type": "scatter3d"
           }
          ],
          "scattercarpet": [
           {
            "marker": {
             "colorbar": {
              "outlinewidth": 0,
              "ticks": ""
             }
            },
            "type": "scattercarpet"
           }
          ],
          "scattergeo": [
           {
            "marker": {
             "colorbar": {
              "outlinewidth": 0,
              "ticks": ""
             }
            },
            "type": "scattergeo"
           }
          ],
          "scattergl": [
           {
            "marker": {
             "line": {
              "color": "#283442"
             }
            },
            "type": "scattergl"
           }
          ],
          "scattermapbox": [
           {
            "marker": {
             "colorbar": {
              "outlinewidth": 0,
              "ticks": ""
             }
            },
            "type": "scattermapbox"
           }
          ],
          "scatterpolar": [
           {
            "marker": {
             "colorbar": {
              "outlinewidth": 0,
              "ticks": ""
             }
            },
            "type": "scatterpolar"
           }
          ],
          "scatterpolargl": [
           {
            "marker": {
             "colorbar": {
              "outlinewidth": 0,
              "ticks": ""
             }
            },
            "type": "scatterpolargl"
           }
          ],
          "scatterternary": [
           {
            "marker": {
             "colorbar": {
              "outlinewidth": 0,
              "ticks": ""
             }
            },
            "type": "scatterternary"
           }
          ],
          "surface": [
           {
            "colorbar": {
             "outlinewidth": 0,
             "ticks": ""
            },
            "colorscale": [
             [
              0,
              "#0d0887"
             ],
             [
              0.1111111111111111,
              "#46039f"
             ],
             [
              0.2222222222222222,
              "#7201a8"
             ],
             [
              0.3333333333333333,
              "#9c179e"
             ],
             [
              0.4444444444444444,
              "#bd3786"
             ],
             [
              0.5555555555555556,
              "#d8576b"
             ],
             [
              0.6666666666666666,
              "#ed7953"
             ],
             [
              0.7777777777777778,
              "#fb9f3a"
             ],
             [
              0.8888888888888888,
              "#fdca26"
             ],
             [
              1,
              "#f0f921"
             ]
            ],
            "type": "surface"
           }
          ],
          "table": [
           {
            "cells": {
             "fill": {
              "color": "#506784"
             },
             "line": {
              "color": "rgb(17,17,17)"
             }
            },
            "header": {
             "fill": {
              "color": "#2a3f5f"
             },
             "line": {
              "color": "rgb(17,17,17)"
             }
            },
            "type": "table"
           }
          ]
         },
         "layout": {
          "annotationdefaults": {
           "arrowcolor": "#f2f5fa",
           "arrowhead": 0,
           "arrowwidth": 1
          },
          "autotypenumbers": "strict",
          "coloraxis": {
           "colorbar": {
            "outlinewidth": 0,
            "ticks": ""
           }
          },
          "colorscale": {
           "diverging": [
            [
             0,
             "#8e0152"
            ],
            [
             0.1,
             "#c51b7d"
            ],
            [
             0.2,
             "#de77ae"
            ],
            [
             0.3,
             "#f1b6da"
            ],
            [
             0.4,
             "#fde0ef"
            ],
            [
             0.5,
             "#f7f7f7"
            ],
            [
             0.6,
             "#e6f5d0"
            ],
            [
             0.7,
             "#b8e186"
            ],
            [
             0.8,
             "#7fbc41"
            ],
            [
             0.9,
             "#4d9221"
            ],
            [
             1,
             "#276419"
            ]
           ],
           "sequential": [
            [
             0,
             "#0d0887"
            ],
            [
             0.1111111111111111,
             "#46039f"
            ],
            [
             0.2222222222222222,
             "#7201a8"
            ],
            [
             0.3333333333333333,
             "#9c179e"
            ],
            [
             0.4444444444444444,
             "#bd3786"
            ],
            [
             0.5555555555555556,
             "#d8576b"
            ],
            [
             0.6666666666666666,
             "#ed7953"
            ],
            [
             0.7777777777777778,
             "#fb9f3a"
            ],
            [
             0.8888888888888888,
             "#fdca26"
            ],
            [
             1,
             "#f0f921"
            ]
           ],
           "sequentialminus": [
            [
             0,
             "#0d0887"
            ],
            [
             0.1111111111111111,
             "#46039f"
            ],
            [
             0.2222222222222222,
             "#7201a8"
            ],
            [
             0.3333333333333333,
             "#9c179e"
            ],
            [
             0.4444444444444444,
             "#bd3786"
            ],
            [
             0.5555555555555556,
             "#d8576b"
            ],
            [
             0.6666666666666666,
             "#ed7953"
            ],
            [
             0.7777777777777778,
             "#fb9f3a"
            ],
            [
             0.8888888888888888,
             "#fdca26"
            ],
            [
             1,
             "#f0f921"
            ]
           ]
          },
          "colorway": [
           "#636efa",
           "#EF553B",
           "#00cc96",
           "#ab63fa",
           "#FFA15A",
           "#19d3f3",
           "#FF6692",
           "#B6E880",
           "#FF97FF",
           "#FECB52"
          ],
          "font": {
           "color": "#f2f5fa"
          },
          "geo": {
           "bgcolor": "rgb(17,17,17)",
           "lakecolor": "rgb(17,17,17)",
           "landcolor": "rgb(17,17,17)",
           "showlakes": true,
           "showland": true,
           "subunitcolor": "#506784"
          },
          "hoverlabel": {
           "align": "left"
          },
          "hovermode": "closest",
          "mapbox": {
           "style": "dark"
          },
          "paper_bgcolor": "rgb(17,17,17)",
          "plot_bgcolor": "rgb(17,17,17)",
          "polar": {
           "angularaxis": {
            "gridcolor": "#506784",
            "linecolor": "#506784",
            "ticks": ""
           },
           "bgcolor": "rgb(17,17,17)",
           "radialaxis": {
            "gridcolor": "#506784",
            "linecolor": "#506784",
            "ticks": ""
           }
          },
          "scene": {
           "xaxis": {
            "backgroundcolor": "rgb(17,17,17)",
            "gridcolor": "#506784",
            "gridwidth": 2,
            "linecolor": "#506784",
            "showbackground": true,
            "ticks": "",
            "zerolinecolor": "#C8D4E3"
           },
           "yaxis": {
            "backgroundcolor": "rgb(17,17,17)",
            "gridcolor": "#506784",
            "gridwidth": 2,
            "linecolor": "#506784",
            "showbackground": true,
            "ticks": "",
            "zerolinecolor": "#C8D4E3"
           },
           "zaxis": {
            "backgroundcolor": "rgb(17,17,17)",
            "gridcolor": "#506784",
            "gridwidth": 2,
            "linecolor": "#506784",
            "showbackground": true,
            "ticks": "",
            "zerolinecolor": "#C8D4E3"
           }
          },
          "shapedefaults": {
           "line": {
            "color": "#f2f5fa"
           }
          },
          "sliderdefaults": {
           "bgcolor": "#C8D4E3",
           "bordercolor": "rgb(17,17,17)",
           "borderwidth": 1,
           "tickwidth": 0
          },
          "ternary": {
           "aaxis": {
            "gridcolor": "#506784",
            "linecolor": "#506784",
            "ticks": ""
           },
           "baxis": {
            "gridcolor": "#506784",
            "linecolor": "#506784",
            "ticks": ""
           },
           "bgcolor": "rgb(17,17,17)",
           "caxis": {
            "gridcolor": "#506784",
            "linecolor": "#506784",
            "ticks": ""
           }
          },
          "title": {
           "x": 0.05
          },
          "updatemenudefaults": {
           "bgcolor": "#506784",
           "borderwidth": 0
          },
          "xaxis": {
           "automargin": true,
           "gridcolor": "#283442",
           "linecolor": "#506784",
           "ticks": "",
           "title": {
            "standoff": 15
           },
           "zerolinecolor": "#283442",
           "zerolinewidth": 2
          },
          "yaxis": {
           "automargin": true,
           "gridcolor": "#283442",
           "linecolor": "#506784",
           "ticks": "",
           "title": {
            "standoff": 15
           },
           "zerolinecolor": "#283442",
           "zerolinewidth": 2
          }
         }
        },
        "title": {
         "text": "Trend in Traffic Consumption"
        },
        "xaxis": {
         "anchor": "y",
         "domain": [
          0,
          1
         ],
         "title": {
          "text": "Day"
         }
        },
        "yaxis": {
         "anchor": "x",
         "domain": [
          0,
          1
         ],
         "title": {
          "text": "Traffic Consumption"
         }
        }
       }
      }
     },
     "metadata": {},
     "output_type": "display_data"
    }
   ],
   "source": [
    "# 3) Analyze Traffic Consumption\n",
    "# Create a line plot for Average Traffic per User\n",
    "fig3 = px.line(df, x='Day', y='Avg_Traffic_Per_User', title='Trend in Traffic Consumption')\n",
    "fig3.update_xaxes(title_text='Day')\n",
    "fig3.update_yaxes(title_text='Traffic Consumption')\n",
    "fig3.update_layout(template=plotly_dark_template)"
   ]
  },
  {
   "attachments": {},
   "cell_type": "markdown",
   "metadata": {},
   "source": [
    "![plot](plots/3.png)"
   ]
  },
  {
   "attachments": {},
   "cell_type": "markdown",
   "metadata": {},
   "source": [
    "## 4) Trend Analysis for Message-Related Metrics\n",
    "\n",
    "I perform a trend analysis focused on message-related metrics, creating line plots to visualize how these metrics change over time. The following three message-related metrics are included in this analysis:\n",
    "\n",
    "- 'Message_Count': The count of messages.\n",
    "- 'Message_Forwards': The count of forwarded messages.\n",
    "- 'Message_Views': The count of message views.\n",
    "\n",
    "For each metric, I use the `px.line` function from the Plotly Express library to create separate line plots. The x-axis represents the 'Day' variable, indicating the timeline, while the y-axis displays the respective metric count.\n",
    "\n",
    "- The title of the overall plot is set as 'Trends in Messaging Activity.'\n",
    "- I update the x-axis and y-axis labels to 'Day' and 'Count,' respectively, to make the plots more informative.\n",
    "\n",
    "These visualizations provide insights into how messaging activity, including message counts, forwards, and views, evolves over time within the dataset.\n"
   ]
  },
  {
   "cell_type": "code",
   "execution_count": 6,
   "metadata": {},
   "outputs": [
    {
     "data": {
      "application/vnd.plotly.v1+json": {
       "config": {
        "plotlyServerURL": "https://plot.ly"
       },
       "data": [
        {
         "hovertemplate": "variable=Message_Count<br>Day=%{x}<br>value=%{y}<extra></extra>",
         "legendgroup": "Message_Count",
         "line": {
          "color": "#636efa",
          "dash": "solid"
         },
         "marker": {
          "symbol": "circle"
         },
         "mode": "lines",
         "name": "Message_Count",
         "orientation": "v",
         "showlegend": true,
         "type": "scatter",
         "x": [
          1,
          2,
          3,
          4,
          5,
          6,
          7,
          8,
          9,
          10,
          11,
          12,
          13,
          14,
          15,
          16,
          17,
          18,
          19,
          20,
          21,
          22,
          23,
          24,
          25,
          26,
          27,
          28,
          29,
          30,
          31,
          32,
          33,
          34,
          35,
          36,
          37,
          38,
          39,
          40,
          41,
          42,
          43,
          44,
          45,
          46,
          47,
          48,
          49,
          50,
          51,
          52,
          53,
          54,
          55,
          56,
          57,
          58,
          59,
          60,
          61,
          62,
          63,
          64,
          65,
          66,
          67,
          68,
          69,
          70,
          71,
          72,
          73,
          74,
          75,
          76,
          77,
          78,
          79,
          80,
          81,
          82,
          83,
          84,
          85,
          86,
          87,
          88,
          89,
          90,
          91,
          92
         ],
         "xaxis": "x",
         "y": [
          2208758400,
          2232246400,
          2195232000,
          2111395200,
          2211222400,
          2263235200,
          2217299200,
          2228902400,
          2170720000,
          1943440000,
          1975200000,
          2048704000,
          2008396800,
          1998873600,
          2110889600,
          2130656000,
          2080019200,
          2011452800,
          2026134400,
          2109625600,
          2026617600,
          2051040000,
          2027584000,
          1934579200,
          1745600000,
          1733612800,
          2081766400,
          2107593600,
          2103795200,
          2087043200,
          2077891200,
          1989961600,
          2021331200,
          2093833600,
          2076937600,
          2085820800,
          2070611200,
          2006768000,
          1895814400,
          1946931200,
          2066713600,
          2063564800,
          2051881600,
          2025971200,
          1974969600,
          1892108800,
          1915689600,
          2048524800,
          2032416000,
          2057942400,
          2062870400,
          2046275200,
          1960710400,
          1994627200,
          2096032000,
          2093520000,
          2093155200,
          2053782400,
          2013980800,
          1963254400,
          1964585600,
          1987395200,
          1976201600,
          1935001600,
          1889244800,
          1765430400,
          1654051200,
          1638668800,
          1920297600,
          1986537600,
          2032272000,
          2049308800,
          2088880000,
          1990108800,
          2028105600,
          2097059200,
          2064163200,
          2075801600,
          2052937600,
          2034083200,
          1957065600,
          1981254400,
          2061715200,
          2050224000,
          2039475200,
          2010144000,
          1994681600,
          1928659200,
          1978291200,
          2051244800,
          2052694400,
          2034966400
         ],
         "yaxis": "y"
        },
        {
         "hovertemplate": "variable=Message_Forwards<br>Day=%{x}<br>value=%{y}<extra></extra>",
         "legendgroup": "Message_Forwards",
         "line": {
          "color": "#EF553B",
          "dash": "solid"
         },
         "marker": {
          "symbol": "circle"
         },
         "mode": "lines",
         "name": "Message_Forwards",
         "orientation": "v",
         "showlegend": true,
         "type": "scatter",
         "x": [
          1,
          2,
          3,
          4,
          5,
          6,
          7,
          8,
          9,
          10,
          11,
          12,
          13,
          14,
          15,
          16,
          17,
          18,
          19,
          20,
          21,
          22,
          23,
          24,
          25,
          26,
          27,
          28,
          29,
          30,
          31,
          32,
          33,
          34,
          35,
          36,
          37,
          38,
          39,
          40,
          41,
          42,
          43,
          44,
          45,
          46,
          47,
          48,
          49,
          50,
          51,
          52,
          53,
          54,
          55,
          56,
          57,
          58,
          59,
          60,
          61,
          62,
          63,
          64,
          65,
          66,
          67,
          68,
          69,
          70,
          71,
          72,
          73,
          74,
          75,
          76,
          77,
          78,
          79,
          80,
          81,
          82,
          83,
          84,
          85,
          86,
          87,
          88,
          89,
          90,
          91,
          92
         ],
         "xaxis": "x",
         "y": [
          50504320,
          66035840,
          64631040,
          62546560,
          62179840,
          66136960,
          66419200,
          65889280,
          66442880,
          59538560,
          62327680,
          61059200,
          62858880,
          61884160,
          63737600,
          67980800,
          66867200,
          65468160,
          63025280,
          67964800,
          67861760,
          68310400,
          68376320,
          65280640,
          58551040,
          58912000,
          67976320,
          66844160,
          65685760,
          66176000,
          63440000,
          59500800,
          57224320,
          59868800,
          59732480,
          58234880,
          58728320,
          56652800,
          51214080,
          50989440,
          57740800,
          58778880,
          58318080,
          56752000,
          55660160,
          53539200,
          50344320,
          56739840,
          57907200,
          57387520,
          58079360,
          58054400,
          55774720,
          55126400,
          58803200,
          60437760,
          61053440,
          60809600,
          59857280,
          56700160,
          54595200,
          56971520,
          57293440,
          55762560,
          54134400,
          50260480,
          42665600,
          40074880,
          55068800,
          57682560,
          58831360,
          59408000,
          60007680,
          56807040,
          56780160,
          60343040,
          59180160,
          60581120,
          60339840,
          59681280,
          57275520,
          56337280,
          60161280,
          59563520,
          59841280,
          59092480,
          58584320,
          57457280,
          55297920,
          60125440,
          60375040,
          60359680
         ],
         "yaxis": "y"
        },
        {
         "hovertemplate": "variable=Message_Views<br>Day=%{x}<br>value=%{y}<extra></extra>",
         "legendgroup": "Message_Views",
         "line": {
          "color": "#00cc96",
          "dash": "solid"
         },
         "marker": {
          "symbol": "circle"
         },
         "mode": "lines",
         "name": "Message_Views",
         "orientation": "v",
         "showlegend": true,
         "type": "scatter",
         "x": [
          1,
          2,
          3,
          4,
          5,
          6,
          7,
          8,
          9,
          10,
          11,
          12,
          13,
          14,
          15,
          16,
          17,
          18,
          19,
          20,
          21,
          22,
          23,
          24,
          25,
          26,
          27,
          28,
          29,
          30,
          31,
          32,
          33,
          34,
          35,
          36,
          37,
          38,
          39,
          40,
          41,
          42,
          43,
          44,
          45,
          46,
          47,
          48,
          49,
          50,
          51,
          52,
          53,
          54,
          55,
          56,
          57,
          58,
          59,
          60,
          61,
          62,
          63,
          64,
          65,
          66,
          67,
          68,
          69,
          70,
          71,
          72,
          73,
          74,
          75,
          76,
          77,
          78,
          79,
          80,
          81,
          82,
          83,
          84,
          85,
          86,
          87,
          88,
          89,
          90,
          91,
          92
         ],
         "xaxis": "x",
         "y": [
          13024512000,
          10912576000,
          15330752000,
          17961344000,
          21135840000,
          12305472000,
          16583232000,
          14140576000,
          10828128000,
          13449664000,
          17498176000,
          11058208000,
          12019328000,
          14504960000,
          18541824000,
          12833152000,
          13940640000,
          17600864000,
          13980096000,
          19190048000,
          15188224000,
          17480992000,
          14800224000,
          18722048000,
          12330624000,
          13580672000,
          14855392000,
          17123264000,
          32725024000,
          14665792000,
          12371840000,
          12555968000,
          19371072000,
          10574784000,
          11810784000,
          17027136000,
          12368768000,
          16350176000,
          12192704000,
          11717824000,
          12814112000,
          12257600000,
          14945504000,
          14922496000,
          11784608000,
          10959776000,
          16560864000,
          20842496000,
          13796896000,
          14794368000,
          14345952000,
          19798464000,
          20704928000,
          13166240000,
          11712960000,
          9195232000,
          13960000000,
          25248608000,
          13772384000,
          18143584000,
          15133600000,
          24617280000,
          16756384000,
          13150528000,
          11063680000,
          10406656000,
          11372704000,
          11610240000,
          10659840000,
          12344000000,
          15578432000,
          11897184000,
          16345248000,
          12259776000,
          12321248000,
          15647968000,
          13640224000,
          13036128000,
          19627808000,
          14412448000,
          16791232000,
          12701376000,
          14381440000,
          17743904000,
          11970912000,
          13805632000,
          10647200000,
          18054208000,
          19277216000,
          14126720000,
          10985664000,
          14631552000
         ],
         "yaxis": "y"
        }
       ],
       "layout": {
        "legend": {
         "title": {
          "text": "variable"
         },
         "tracegroupgap": 0
        },
        "template": {
         "data": {
          "bar": [
           {
            "error_x": {
             "color": "#f2f5fa"
            },
            "error_y": {
             "color": "#f2f5fa"
            },
            "marker": {
             "line": {
              "color": "rgb(17,17,17)",
              "width": 0.5
             },
             "pattern": {
              "fillmode": "overlay",
              "size": 10,
              "solidity": 0.2
             }
            },
            "type": "bar"
           }
          ],
          "barpolar": [
           {
            "marker": {
             "line": {
              "color": "rgb(17,17,17)",
              "width": 0.5
             },
             "pattern": {
              "fillmode": "overlay",
              "size": 10,
              "solidity": 0.2
             }
            },
            "type": "barpolar"
           }
          ],
          "carpet": [
           {
            "aaxis": {
             "endlinecolor": "#A2B1C6",
             "gridcolor": "#506784",
             "linecolor": "#506784",
             "minorgridcolor": "#506784",
             "startlinecolor": "#A2B1C6"
            },
            "baxis": {
             "endlinecolor": "#A2B1C6",
             "gridcolor": "#506784",
             "linecolor": "#506784",
             "minorgridcolor": "#506784",
             "startlinecolor": "#A2B1C6"
            },
            "type": "carpet"
           }
          ],
          "choropleth": [
           {
            "colorbar": {
             "outlinewidth": 0,
             "ticks": ""
            },
            "type": "choropleth"
           }
          ],
          "contour": [
           {
            "colorbar": {
             "outlinewidth": 0,
             "ticks": ""
            },
            "colorscale": [
             [
              0,
              "#0d0887"
             ],
             [
              0.1111111111111111,
              "#46039f"
             ],
             [
              0.2222222222222222,
              "#7201a8"
             ],
             [
              0.3333333333333333,
              "#9c179e"
             ],
             [
              0.4444444444444444,
              "#bd3786"
             ],
             [
              0.5555555555555556,
              "#d8576b"
             ],
             [
              0.6666666666666666,
              "#ed7953"
             ],
             [
              0.7777777777777778,
              "#fb9f3a"
             ],
             [
              0.8888888888888888,
              "#fdca26"
             ],
             [
              1,
              "#f0f921"
             ]
            ],
            "type": "contour"
           }
          ],
          "contourcarpet": [
           {
            "colorbar": {
             "outlinewidth": 0,
             "ticks": ""
            },
            "type": "contourcarpet"
           }
          ],
          "heatmap": [
           {
            "colorbar": {
             "outlinewidth": 0,
             "ticks": ""
            },
            "colorscale": [
             [
              0,
              "#0d0887"
             ],
             [
              0.1111111111111111,
              "#46039f"
             ],
             [
              0.2222222222222222,
              "#7201a8"
             ],
             [
              0.3333333333333333,
              "#9c179e"
             ],
             [
              0.4444444444444444,
              "#bd3786"
             ],
             [
              0.5555555555555556,
              "#d8576b"
             ],
             [
              0.6666666666666666,
              "#ed7953"
             ],
             [
              0.7777777777777778,
              "#fb9f3a"
             ],
             [
              0.8888888888888888,
              "#fdca26"
             ],
             [
              1,
              "#f0f921"
             ]
            ],
            "type": "heatmap"
           }
          ],
          "heatmapgl": [
           {
            "colorbar": {
             "outlinewidth": 0,
             "ticks": ""
            },
            "colorscale": [
             [
              0,
              "#0d0887"
             ],
             [
              0.1111111111111111,
              "#46039f"
             ],
             [
              0.2222222222222222,
              "#7201a8"
             ],
             [
              0.3333333333333333,
              "#9c179e"
             ],
             [
              0.4444444444444444,
              "#bd3786"
             ],
             [
              0.5555555555555556,
              "#d8576b"
             ],
             [
              0.6666666666666666,
              "#ed7953"
             ],
             [
              0.7777777777777778,
              "#fb9f3a"
             ],
             [
              0.8888888888888888,
              "#fdca26"
             ],
             [
              1,
              "#f0f921"
             ]
            ],
            "type": "heatmapgl"
           }
          ],
          "histogram": [
           {
            "marker": {
             "pattern": {
              "fillmode": "overlay",
              "size": 10,
              "solidity": 0.2
             }
            },
            "type": "histogram"
           }
          ],
          "histogram2d": [
           {
            "colorbar": {
             "outlinewidth": 0,
             "ticks": ""
            },
            "colorscale": [
             [
              0,
              "#0d0887"
             ],
             [
              0.1111111111111111,
              "#46039f"
             ],
             [
              0.2222222222222222,
              "#7201a8"
             ],
             [
              0.3333333333333333,
              "#9c179e"
             ],
             [
              0.4444444444444444,
              "#bd3786"
             ],
             [
              0.5555555555555556,
              "#d8576b"
             ],
             [
              0.6666666666666666,
              "#ed7953"
             ],
             [
              0.7777777777777778,
              "#fb9f3a"
             ],
             [
              0.8888888888888888,
              "#fdca26"
             ],
             [
              1,
              "#f0f921"
             ]
            ],
            "type": "histogram2d"
           }
          ],
          "histogram2dcontour": [
           {
            "colorbar": {
             "outlinewidth": 0,
             "ticks": ""
            },
            "colorscale": [
             [
              0,
              "#0d0887"
             ],
             [
              0.1111111111111111,
              "#46039f"
             ],
             [
              0.2222222222222222,
              "#7201a8"
             ],
             [
              0.3333333333333333,
              "#9c179e"
             ],
             [
              0.4444444444444444,
              "#bd3786"
             ],
             [
              0.5555555555555556,
              "#d8576b"
             ],
             [
              0.6666666666666666,
              "#ed7953"
             ],
             [
              0.7777777777777778,
              "#fb9f3a"
             ],
             [
              0.8888888888888888,
              "#fdca26"
             ],
             [
              1,
              "#f0f921"
             ]
            ],
            "type": "histogram2dcontour"
           }
          ],
          "mesh3d": [
           {
            "colorbar": {
             "outlinewidth": 0,
             "ticks": ""
            },
            "type": "mesh3d"
           }
          ],
          "parcoords": [
           {
            "line": {
             "colorbar": {
              "outlinewidth": 0,
              "ticks": ""
             }
            },
            "type": "parcoords"
           }
          ],
          "pie": [
           {
            "automargin": true,
            "type": "pie"
           }
          ],
          "scatter": [
           {
            "marker": {
             "line": {
              "color": "#283442"
             }
            },
            "type": "scatter"
           }
          ],
          "scatter3d": [
           {
            "line": {
             "colorbar": {
              "outlinewidth": 0,
              "ticks": ""
             }
            },
            "marker": {
             "colorbar": {
              "outlinewidth": 0,
              "ticks": ""
             }
            },
            "type": "scatter3d"
           }
          ],
          "scattercarpet": [
           {
            "marker": {
             "colorbar": {
              "outlinewidth": 0,
              "ticks": ""
             }
            },
            "type": "scattercarpet"
           }
          ],
          "scattergeo": [
           {
            "marker": {
             "colorbar": {
              "outlinewidth": 0,
              "ticks": ""
             }
            },
            "type": "scattergeo"
           }
          ],
          "scattergl": [
           {
            "marker": {
             "line": {
              "color": "#283442"
             }
            },
            "type": "scattergl"
           }
          ],
          "scattermapbox": [
           {
            "marker": {
             "colorbar": {
              "outlinewidth": 0,
              "ticks": ""
             }
            },
            "type": "scattermapbox"
           }
          ],
          "scatterpolar": [
           {
            "marker": {
             "colorbar": {
              "outlinewidth": 0,
              "ticks": ""
             }
            },
            "type": "scatterpolar"
           }
          ],
          "scatterpolargl": [
           {
            "marker": {
             "colorbar": {
              "outlinewidth": 0,
              "ticks": ""
             }
            },
            "type": "scatterpolargl"
           }
          ],
          "scatterternary": [
           {
            "marker": {
             "colorbar": {
              "outlinewidth": 0,
              "ticks": ""
             }
            },
            "type": "scatterternary"
           }
          ],
          "surface": [
           {
            "colorbar": {
             "outlinewidth": 0,
             "ticks": ""
            },
            "colorscale": [
             [
              0,
              "#0d0887"
             ],
             [
              0.1111111111111111,
              "#46039f"
             ],
             [
              0.2222222222222222,
              "#7201a8"
             ],
             [
              0.3333333333333333,
              "#9c179e"
             ],
             [
              0.4444444444444444,
              "#bd3786"
             ],
             [
              0.5555555555555556,
              "#d8576b"
             ],
             [
              0.6666666666666666,
              "#ed7953"
             ],
             [
              0.7777777777777778,
              "#fb9f3a"
             ],
             [
              0.8888888888888888,
              "#fdca26"
             ],
             [
              1,
              "#f0f921"
             ]
            ],
            "type": "surface"
           }
          ],
          "table": [
           {
            "cells": {
             "fill": {
              "color": "#506784"
             },
             "line": {
              "color": "rgb(17,17,17)"
             }
            },
            "header": {
             "fill": {
              "color": "#2a3f5f"
             },
             "line": {
              "color": "rgb(17,17,17)"
             }
            },
            "type": "table"
           }
          ]
         },
         "layout": {
          "annotationdefaults": {
           "arrowcolor": "#f2f5fa",
           "arrowhead": 0,
           "arrowwidth": 1
          },
          "autotypenumbers": "strict",
          "coloraxis": {
           "colorbar": {
            "outlinewidth": 0,
            "ticks": ""
           }
          },
          "colorscale": {
           "diverging": [
            [
             0,
             "#8e0152"
            ],
            [
             0.1,
             "#c51b7d"
            ],
            [
             0.2,
             "#de77ae"
            ],
            [
             0.3,
             "#f1b6da"
            ],
            [
             0.4,
             "#fde0ef"
            ],
            [
             0.5,
             "#f7f7f7"
            ],
            [
             0.6,
             "#e6f5d0"
            ],
            [
             0.7,
             "#b8e186"
            ],
            [
             0.8,
             "#7fbc41"
            ],
            [
             0.9,
             "#4d9221"
            ],
            [
             1,
             "#276419"
            ]
           ],
           "sequential": [
            [
             0,
             "#0d0887"
            ],
            [
             0.1111111111111111,
             "#46039f"
            ],
            [
             0.2222222222222222,
             "#7201a8"
            ],
            [
             0.3333333333333333,
             "#9c179e"
            ],
            [
             0.4444444444444444,
             "#bd3786"
            ],
            [
             0.5555555555555556,
             "#d8576b"
            ],
            [
             0.6666666666666666,
             "#ed7953"
            ],
            [
             0.7777777777777778,
             "#fb9f3a"
            ],
            [
             0.8888888888888888,
             "#fdca26"
            ],
            [
             1,
             "#f0f921"
            ]
           ],
           "sequentialminus": [
            [
             0,
             "#0d0887"
            ],
            [
             0.1111111111111111,
             "#46039f"
            ],
            [
             0.2222222222222222,
             "#7201a8"
            ],
            [
             0.3333333333333333,
             "#9c179e"
            ],
            [
             0.4444444444444444,
             "#bd3786"
            ],
            [
             0.5555555555555556,
             "#d8576b"
            ],
            [
             0.6666666666666666,
             "#ed7953"
            ],
            [
             0.7777777777777778,
             "#fb9f3a"
            ],
            [
             0.8888888888888888,
             "#fdca26"
            ],
            [
             1,
             "#f0f921"
            ]
           ]
          },
          "colorway": [
           "#636efa",
           "#EF553B",
           "#00cc96",
           "#ab63fa",
           "#FFA15A",
           "#19d3f3",
           "#FF6692",
           "#B6E880",
           "#FF97FF",
           "#FECB52"
          ],
          "font": {
           "color": "#f2f5fa"
          },
          "geo": {
           "bgcolor": "rgb(17,17,17)",
           "lakecolor": "rgb(17,17,17)",
           "landcolor": "rgb(17,17,17)",
           "showlakes": true,
           "showland": true,
           "subunitcolor": "#506784"
          },
          "hoverlabel": {
           "align": "left"
          },
          "hovermode": "closest",
          "mapbox": {
           "style": "dark"
          },
          "paper_bgcolor": "rgb(17,17,17)",
          "plot_bgcolor": "rgb(17,17,17)",
          "polar": {
           "angularaxis": {
            "gridcolor": "#506784",
            "linecolor": "#506784",
            "ticks": ""
           },
           "bgcolor": "rgb(17,17,17)",
           "radialaxis": {
            "gridcolor": "#506784",
            "linecolor": "#506784",
            "ticks": ""
           }
          },
          "scene": {
           "xaxis": {
            "backgroundcolor": "rgb(17,17,17)",
            "gridcolor": "#506784",
            "gridwidth": 2,
            "linecolor": "#506784",
            "showbackground": true,
            "ticks": "",
            "zerolinecolor": "#C8D4E3"
           },
           "yaxis": {
            "backgroundcolor": "rgb(17,17,17)",
            "gridcolor": "#506784",
            "gridwidth": 2,
            "linecolor": "#506784",
            "showbackground": true,
            "ticks": "",
            "zerolinecolor": "#C8D4E3"
           },
           "zaxis": {
            "backgroundcolor": "rgb(17,17,17)",
            "gridcolor": "#506784",
            "gridwidth": 2,
            "linecolor": "#506784",
            "showbackground": true,
            "ticks": "",
            "zerolinecolor": "#C8D4E3"
           }
          },
          "shapedefaults": {
           "line": {
            "color": "#f2f5fa"
           }
          },
          "sliderdefaults": {
           "bgcolor": "#C8D4E3",
           "bordercolor": "rgb(17,17,17)",
           "borderwidth": 1,
           "tickwidth": 0
          },
          "ternary": {
           "aaxis": {
            "gridcolor": "#506784",
            "linecolor": "#506784",
            "ticks": ""
           },
           "baxis": {
            "gridcolor": "#506784",
            "linecolor": "#506784",
            "ticks": ""
           },
           "bgcolor": "rgb(17,17,17)",
           "caxis": {
            "gridcolor": "#506784",
            "linecolor": "#506784",
            "ticks": ""
           }
          },
          "title": {
           "x": 0.05
          },
          "updatemenudefaults": {
           "bgcolor": "#506784",
           "borderwidth": 0
          },
          "xaxis": {
           "automargin": true,
           "gridcolor": "#283442",
           "linecolor": "#506784",
           "ticks": "",
           "title": {
            "standoff": 15
           },
           "zerolinecolor": "#283442",
           "zerolinewidth": 2
          },
          "yaxis": {
           "automargin": true,
           "gridcolor": "#283442",
           "linecolor": "#506784",
           "ticks": "",
           "title": {
            "standoff": 15
           },
           "zerolinecolor": "#283442",
           "zerolinewidth": 2
          }
         }
        },
        "title": {
         "text": "Trends in Messaging Activity"
        },
        "xaxis": {
         "anchor": "y",
         "domain": [
          0,
          1
         ],
         "title": {
          "text": "Day"
         }
        },
        "yaxis": {
         "anchor": "x",
         "domain": [
          0,
          1
         ],
         "title": {
          "text": "Count"
         }
        }
       }
      }
     },
     "metadata": {},
     "output_type": "display_data"
    }
   ],
   "source": [
    "# 4) Trend Analysis for Message-Related Metrics\n",
    "# Create line plots for Message Count, Message Forwards, and Message Views\n",
    "fig4 = px.line(df, x='Day', y=['Message_Count', 'Message_Forwards', 'Message_Views'], title='Trends in Messaging Activity')\n",
    "fig4.update_xaxes(title_text='Day')\n",
    "fig4.update_yaxes(title_text='Count')\n",
    "fig4.update_layout(template=plotly_dark_template)"
   ]
  },
  {
   "attachments": {},
   "cell_type": "markdown",
   "metadata": {},
   "source": [
    "![plot](plots/4.png)"
   ]
  },
  {
   "attachments": {},
   "cell_type": "markdown",
   "metadata": {},
   "source": [
    "## 5) Trend Analysis for Channel-Related Metrics\n",
    "\n",
    "I perform a trend analysis focused on channel-related metrics, creating line plots to visualize how these metrics change over time. The following three channel-related metrics are included in this analysis:\n",
    "\n",
    "- 'New_Channels': The count of new channels created.\n",
    "- 'Channel_Subscriptions': The count of channel subscriptions.\n",
    "- 'Effective_Channel_Users': The count of effective channel users.\n",
    "\n",
    "For each metric, I use the `px.line` function from the Plotly Express library to create separate line plots. The x-axis represents the 'Day' variable, indicating the timeline, while the y-axis displays the respective metric count.\n",
    "\n",
    "- The title of the overall plot is set as 'Trends in Channel Activity.'\n",
    "- I update the x-axis and y-axis labels to 'Day' and 'Count,' respectively, to make the plots more informative.\n",
    "\n",
    "These visualizations provide insights into how channel-related activity, including new channel creations, subscriptions, and effective channel users, evolves over time within the dataset."
   ]
  },
  {
   "cell_type": "code",
   "execution_count": 7,
   "metadata": {},
   "outputs": [
    {
     "data": {
      "application/vnd.plotly.v1+json": {
       "config": {
        "plotlyServerURL": "https://plot.ly"
       },
       "data": [
        {
         "hovertemplate": "variable=New_Channels<br>Day=%{x}<br>value=%{y}<extra></extra>",
         "legendgroup": "New_Channels",
         "line": {
          "color": "#636efa",
          "dash": "solid"
         },
         "marker": {
          "symbol": "circle"
         },
         "mode": "lines",
         "name": "New_Channels",
         "orientation": "v",
         "showlegend": true,
         "type": "scatter",
         "x": [
          1,
          2,
          3,
          4,
          5,
          6,
          7,
          8,
          9,
          10,
          11,
          12,
          13,
          14,
          15,
          16,
          17,
          18,
          19,
          20,
          21,
          22,
          23,
          24,
          25,
          26,
          27,
          28,
          29,
          30,
          31,
          32,
          33,
          34,
          35,
          36,
          37,
          38,
          39,
          40,
          41,
          42,
          43,
          44,
          45,
          46,
          47,
          48,
          49,
          50,
          51,
          52,
          53,
          54,
          55,
          56,
          57,
          58,
          59,
          60,
          61,
          62,
          63,
          64,
          65,
          66,
          67,
          68,
          69,
          70,
          71,
          72,
          73,
          74,
          75,
          76,
          77,
          78,
          79,
          80,
          81,
          82,
          83,
          84,
          85,
          86,
          87,
          88,
          89,
          90,
          91,
          92
         ],
         "xaxis": "x",
         "y": [
          53968,
          66112,
          66480,
          67664,
          68512,
          69536,
          66304,
          68160,
          68480,
          61504,
          66416,
          65424,
          64720,
          69424,
          72576,
          71600,
          72688,
          74736,
          73808,
          75392,
          76336,
          74112,
          74176,
          70448,
          65680,
          69520,
          72128,
          73728,
          72400,
          68176,
          69952,
          64976,
          65632,
          68048,
          66624,
          66944,
          65152,
          61728,
          57200,
          61600,
          66128,
          65616,
          64240,
          65152,
          62384,
          58320,
          60528,
          63792,
          65968,
          65056,
          64464,
          64192,
          61264,
          61920,
          62656,
          65248,
          63920,
          63584,
          62592,
          60384,
          60272,
          57456,
          58416,
          57728,
          55888,
          52144,
          46464,
          43568,
          57344,
          61264,
          63120,
          62272,
          65376,
          60208,
          60992,
          60672,
          60752,
          64496,
          65232,
          64256,
          61248,
          58624,
          64896,
          62160,
          62672,
          61792,
          58752,
          57584,
          59104,
          60240,
          62240,
          60784
         ],
         "yaxis": "y"
        },
        {
         "hovertemplate": "variable=Channel_Subscriptions<br>Day=%{x}<br>value=%{y}<extra></extra>",
         "legendgroup": "Channel_Subscriptions",
         "line": {
          "color": "#EF553B",
          "dash": "solid"
         },
         "marker": {
          "symbol": "circle"
         },
         "mode": "lines",
         "name": "Channel_Subscriptions",
         "orientation": "v",
         "showlegend": true,
         "type": "scatter",
         "x": [
          1,
          2,
          3,
          4,
          5,
          6,
          7,
          8,
          9,
          10,
          11,
          12,
          13,
          14,
          15,
          16,
          17,
          18,
          19,
          20,
          21,
          22,
          23,
          24,
          25,
          26,
          27,
          28,
          29,
          30,
          31,
          32,
          33,
          34,
          35,
          36,
          37,
          38,
          39,
          40,
          41,
          42,
          43,
          44,
          45,
          46,
          47,
          48,
          49,
          50,
          51,
          52,
          53,
          54,
          55,
          56,
          57,
          58,
          59,
          60,
          61,
          62,
          63,
          64,
          65,
          66,
          67,
          68,
          69,
          70,
          71,
          72,
          73,
          74,
          75,
          76,
          77,
          78,
          79,
          80,
          81,
          82,
          83,
          84,
          85,
          86,
          87,
          88,
          89,
          90,
          91,
          92
         ],
         "xaxis": "x",
         "y": [
          17173888,
          21804512,
          23730528,
          23700960,
          22110848,
          20966784,
          22137280,
          21430176,
          21553184,
          21477696,
          21339328,
          21220416,
          20673088,
          21230272,
          21230464,
          22583392,
          22589728,
          23743936,
          21947040,
          23000352,
          25064928,
          26391360,
          25148416,
          21800320,
          20555872,
          21737440,
          23885440,
          22738528,
          23635424,
          23364736,
          21686208,
          20902432,
          20624544,
          19929408,
          17548480,
          17058944,
          17139168,
          16949216,
          16130752,
          16528384,
          17682560,
          18072352,
          18474272,
          17280640,
          16172960,
          16159360,
          15941632,
          17017664,
          17156192,
          17332544,
          17221376,
          17030304,
          16600768,
          16674624,
          17260896,
          17761376,
          17849216,
          17631008,
          17173056,
          17142816,
          16885728,
          16342432,
          16089504,
          15858112,
          15479072,
          14722240,
          13281792,
          12194752,
          15505536,
          15751040,
          15706016,
          16084384,
          16946272,
          16053888,
          15861248,
          16301472,
          16301312,
          16576160,
          16783744,
          16592640,
          16179872,
          16232000,
          16648672,
          16906432,
          16548256,
          15914816,
          16209728,
          15930304,
          15496032,
          16167936,
          16525408,
          16572800
         ],
         "yaxis": "y"
        },
        {
         "hovertemplate": "variable=Effective_Channel_Users<br>Day=%{x}<br>value=%{y}<extra></extra>",
         "legendgroup": "Effective_Channel_Users",
         "line": {
          "color": "#00cc96",
          "dash": "solid"
         },
         "marker": {
          "symbol": "circle"
         },
         "mode": "lines",
         "name": "Effective_Channel_Users",
         "orientation": "v",
         "showlegend": true,
         "type": "scatter",
         "x": [
          1,
          2,
          3,
          4,
          5,
          6,
          7,
          8,
          9,
          10,
          11,
          12,
          13,
          14,
          15,
          16,
          17,
          18,
          19,
          20,
          21,
          22,
          23,
          24,
          25,
          26,
          27,
          28,
          29,
          30,
          31,
          32,
          33,
          34,
          35,
          36,
          37,
          38,
          39,
          40,
          41,
          42,
          43,
          44,
          45,
          46,
          47,
          48,
          49,
          50,
          51,
          52,
          53,
          54,
          55,
          56,
          57,
          58,
          59,
          60,
          61,
          62,
          63,
          64,
          65,
          66,
          67,
          68,
          69,
          70,
          71,
          72,
          73,
          74,
          75,
          76,
          77,
          78,
          79,
          80,
          81,
          82,
          83,
          84,
          85,
          86,
          87,
          88,
          89,
          90,
          91,
          92
         ],
         "xaxis": "x",
         "y": [
          31874742.400000002,
          32196083.200000003,
          32508924.8,
          32078841.6,
          31338800,
          31824502.400000002,
          32536153.6,
          32022892.8,
          31877708.8,
          33917558.4,
          31493766.400000002,
          30831484.8,
          31563750.400000002,
          31022176,
          30955321.6,
          32443923.200000003,
          31846659.200000003,
          31954758.400000002,
          31354179.200000003,
          32684707.200000003,
          32882972.8,
          32626675.200000003,
          32753619.200000003,
          32611808,
          31265014.400000002,
          31034867.200000003,
          32614224,
          33082678.400000002,
          32459894.400000002,
          32485049.6,
          32571824,
          31208787.200000003,
          31317452.8,
          31864608,
          32457952,
          31538604.8,
          31287126.400000002,
          30964246.400000002,
          29964768,
          29705065.6,
          30915625.6,
          31144057.6,
          31729500.8,
          31283046.400000002,
          30962889.6,
          30688972.8,
          30042195.200000003,
          30726169.6,
          31338620.8,
          30933420.8,
          30656870.400000002,
          30469027.200000003,
          30151379.200000003,
          29605340.8,
          30543827.200000003,
          31014086.400000002,
          31440614.400000002,
          31454812.8,
          32019299.200000003,
          30939734.400000002,
          30217766.400000002,
          30622608,
          30506070.400000002,
          30846281.6,
          29989840,
          29037331.200000003,
          28314787.200000003,
          27204828.8,
          29504678.400000002,
          29486201.6,
          29689625.6,
          29992582.400000002,
          30451843.200000003,
          29456163.200000003,
          29140550.400000002,
          30309164.8,
          30194448,
          30095740.8,
          30088041.6,
          30865219.200000003,
          30171334.400000002,
          29528195.200000003,
          30616979.200000003,
          30550784,
          30716140.8,
          30148352,
          30713552,
          30068640,
          29300278.400000002,
          30512960,
          30373593.6,
          30844368
         ],
         "yaxis": "y"
        }
       ],
       "layout": {
        "legend": {
         "title": {
          "text": "variable"
         },
         "tracegroupgap": 0
        },
        "template": {
         "data": {
          "bar": [
           {
            "error_x": {
             "color": "#f2f5fa"
            },
            "error_y": {
             "color": "#f2f5fa"
            },
            "marker": {
             "line": {
              "color": "rgb(17,17,17)",
              "width": 0.5
             },
             "pattern": {
              "fillmode": "overlay",
              "size": 10,
              "solidity": 0.2
             }
            },
            "type": "bar"
           }
          ],
          "barpolar": [
           {
            "marker": {
             "line": {
              "color": "rgb(17,17,17)",
              "width": 0.5
             },
             "pattern": {
              "fillmode": "overlay",
              "size": 10,
              "solidity": 0.2
             }
            },
            "type": "barpolar"
           }
          ],
          "carpet": [
           {
            "aaxis": {
             "endlinecolor": "#A2B1C6",
             "gridcolor": "#506784",
             "linecolor": "#506784",
             "minorgridcolor": "#506784",
             "startlinecolor": "#A2B1C6"
            },
            "baxis": {
             "endlinecolor": "#A2B1C6",
             "gridcolor": "#506784",
             "linecolor": "#506784",
             "minorgridcolor": "#506784",
             "startlinecolor": "#A2B1C6"
            },
            "type": "carpet"
           }
          ],
          "choropleth": [
           {
            "colorbar": {
             "outlinewidth": 0,
             "ticks": ""
            },
            "type": "choropleth"
           }
          ],
          "contour": [
           {
            "colorbar": {
             "outlinewidth": 0,
             "ticks": ""
            },
            "colorscale": [
             [
              0,
              "#0d0887"
             ],
             [
              0.1111111111111111,
              "#46039f"
             ],
             [
              0.2222222222222222,
              "#7201a8"
             ],
             [
              0.3333333333333333,
              "#9c179e"
             ],
             [
              0.4444444444444444,
              "#bd3786"
             ],
             [
              0.5555555555555556,
              "#d8576b"
             ],
             [
              0.6666666666666666,
              "#ed7953"
             ],
             [
              0.7777777777777778,
              "#fb9f3a"
             ],
             [
              0.8888888888888888,
              "#fdca26"
             ],
             [
              1,
              "#f0f921"
             ]
            ],
            "type": "contour"
           }
          ],
          "contourcarpet": [
           {
            "colorbar": {
             "outlinewidth": 0,
             "ticks": ""
            },
            "type": "contourcarpet"
           }
          ],
          "heatmap": [
           {
            "colorbar": {
             "outlinewidth": 0,
             "ticks": ""
            },
            "colorscale": [
             [
              0,
              "#0d0887"
             ],
             [
              0.1111111111111111,
              "#46039f"
             ],
             [
              0.2222222222222222,
              "#7201a8"
             ],
             [
              0.3333333333333333,
              "#9c179e"
             ],
             [
              0.4444444444444444,
              "#bd3786"
             ],
             [
              0.5555555555555556,
              "#d8576b"
             ],
             [
              0.6666666666666666,
              "#ed7953"
             ],
             [
              0.7777777777777778,
              "#fb9f3a"
             ],
             [
              0.8888888888888888,
              "#fdca26"
             ],
             [
              1,
              "#f0f921"
             ]
            ],
            "type": "heatmap"
           }
          ],
          "heatmapgl": [
           {
            "colorbar": {
             "outlinewidth": 0,
             "ticks": ""
            },
            "colorscale": [
             [
              0,
              "#0d0887"
             ],
             [
              0.1111111111111111,
              "#46039f"
             ],
             [
              0.2222222222222222,
              "#7201a8"
             ],
             [
              0.3333333333333333,
              "#9c179e"
             ],
             [
              0.4444444444444444,
              "#bd3786"
             ],
             [
              0.5555555555555556,
              "#d8576b"
             ],
             [
              0.6666666666666666,
              "#ed7953"
             ],
             [
              0.7777777777777778,
              "#fb9f3a"
             ],
             [
              0.8888888888888888,
              "#fdca26"
             ],
             [
              1,
              "#f0f921"
             ]
            ],
            "type": "heatmapgl"
           }
          ],
          "histogram": [
           {
            "marker": {
             "pattern": {
              "fillmode": "overlay",
              "size": 10,
              "solidity": 0.2
             }
            },
            "type": "histogram"
           }
          ],
          "histogram2d": [
           {
            "colorbar": {
             "outlinewidth": 0,
             "ticks": ""
            },
            "colorscale": [
             [
              0,
              "#0d0887"
             ],
             [
              0.1111111111111111,
              "#46039f"
             ],
             [
              0.2222222222222222,
              "#7201a8"
             ],
             [
              0.3333333333333333,
              "#9c179e"
             ],
             [
              0.4444444444444444,
              "#bd3786"
             ],
             [
              0.5555555555555556,
              "#d8576b"
             ],
             [
              0.6666666666666666,
              "#ed7953"
             ],
             [
              0.7777777777777778,
              "#fb9f3a"
             ],
             [
              0.8888888888888888,
              "#fdca26"
             ],
             [
              1,
              "#f0f921"
             ]
            ],
            "type": "histogram2d"
           }
          ],
          "histogram2dcontour": [
           {
            "colorbar": {
             "outlinewidth": 0,
             "ticks": ""
            },
            "colorscale": [
             [
              0,
              "#0d0887"
             ],
             [
              0.1111111111111111,
              "#46039f"
             ],
             [
              0.2222222222222222,
              "#7201a8"
             ],
             [
              0.3333333333333333,
              "#9c179e"
             ],
             [
              0.4444444444444444,
              "#bd3786"
             ],
             [
              0.5555555555555556,
              "#d8576b"
             ],
             [
              0.6666666666666666,
              "#ed7953"
             ],
             [
              0.7777777777777778,
              "#fb9f3a"
             ],
             [
              0.8888888888888888,
              "#fdca26"
             ],
             [
              1,
              "#f0f921"
             ]
            ],
            "type": "histogram2dcontour"
           }
          ],
          "mesh3d": [
           {
            "colorbar": {
             "outlinewidth": 0,
             "ticks": ""
            },
            "type": "mesh3d"
           }
          ],
          "parcoords": [
           {
            "line": {
             "colorbar": {
              "outlinewidth": 0,
              "ticks": ""
             }
            },
            "type": "parcoords"
           }
          ],
          "pie": [
           {
            "automargin": true,
            "type": "pie"
           }
          ],
          "scatter": [
           {
            "marker": {
             "line": {
              "color": "#283442"
             }
            },
            "type": "scatter"
           }
          ],
          "scatter3d": [
           {
            "line": {
             "colorbar": {
              "outlinewidth": 0,
              "ticks": ""
             }
            },
            "marker": {
             "colorbar": {
              "outlinewidth": 0,
              "ticks": ""
             }
            },
            "type": "scatter3d"
           }
          ],
          "scattercarpet": [
           {
            "marker": {
             "colorbar": {
              "outlinewidth": 0,
              "ticks": ""
             }
            },
            "type": "scattercarpet"
           }
          ],
          "scattergeo": [
           {
            "marker": {
             "colorbar": {
              "outlinewidth": 0,
              "ticks": ""
             }
            },
            "type": "scattergeo"
           }
          ],
          "scattergl": [
           {
            "marker": {
             "line": {
              "color": "#283442"
             }
            },
            "type": "scattergl"
           }
          ],
          "scattermapbox": [
           {
            "marker": {
             "colorbar": {
              "outlinewidth": 0,
              "ticks": ""
             }
            },
            "type": "scattermapbox"
           }
          ],
          "scatterpolar": [
           {
            "marker": {
             "colorbar": {
              "outlinewidth": 0,
              "ticks": ""
             }
            },
            "type": "scatterpolar"
           }
          ],
          "scatterpolargl": [
           {
            "marker": {
             "colorbar": {
              "outlinewidth": 0,
              "ticks": ""
             }
            },
            "type": "scatterpolargl"
           }
          ],
          "scatterternary": [
           {
            "marker": {
             "colorbar": {
              "outlinewidth": 0,
              "ticks": ""
             }
            },
            "type": "scatterternary"
           }
          ],
          "surface": [
           {
            "colorbar": {
             "outlinewidth": 0,
             "ticks": ""
            },
            "colorscale": [
             [
              0,
              "#0d0887"
             ],
             [
              0.1111111111111111,
              "#46039f"
             ],
             [
              0.2222222222222222,
              "#7201a8"
             ],
             [
              0.3333333333333333,
              "#9c179e"
             ],
             [
              0.4444444444444444,
              "#bd3786"
             ],
             [
              0.5555555555555556,
              "#d8576b"
             ],
             [
              0.6666666666666666,
              "#ed7953"
             ],
             [
              0.7777777777777778,
              "#fb9f3a"
             ],
             [
              0.8888888888888888,
              "#fdca26"
             ],
             [
              1,
              "#f0f921"
             ]
            ],
            "type": "surface"
           }
          ],
          "table": [
           {
            "cells": {
             "fill": {
              "color": "#506784"
             },
             "line": {
              "color": "rgb(17,17,17)"
             }
            },
            "header": {
             "fill": {
              "color": "#2a3f5f"
             },
             "line": {
              "color": "rgb(17,17,17)"
             }
            },
            "type": "table"
           }
          ]
         },
         "layout": {
          "annotationdefaults": {
           "arrowcolor": "#f2f5fa",
           "arrowhead": 0,
           "arrowwidth": 1
          },
          "autotypenumbers": "strict",
          "coloraxis": {
           "colorbar": {
            "outlinewidth": 0,
            "ticks": ""
           }
          },
          "colorscale": {
           "diverging": [
            [
             0,
             "#8e0152"
            ],
            [
             0.1,
             "#c51b7d"
            ],
            [
             0.2,
             "#de77ae"
            ],
            [
             0.3,
             "#f1b6da"
            ],
            [
             0.4,
             "#fde0ef"
            ],
            [
             0.5,
             "#f7f7f7"
            ],
            [
             0.6,
             "#e6f5d0"
            ],
            [
             0.7,
             "#b8e186"
            ],
            [
             0.8,
             "#7fbc41"
            ],
            [
             0.9,
             "#4d9221"
            ],
            [
             1,
             "#276419"
            ]
           ],
           "sequential": [
            [
             0,
             "#0d0887"
            ],
            [
             0.1111111111111111,
             "#46039f"
            ],
            [
             0.2222222222222222,
             "#7201a8"
            ],
            [
             0.3333333333333333,
             "#9c179e"
            ],
            [
             0.4444444444444444,
             "#bd3786"
            ],
            [
             0.5555555555555556,
             "#d8576b"
            ],
            [
             0.6666666666666666,
             "#ed7953"
            ],
            [
             0.7777777777777778,
             "#fb9f3a"
            ],
            [
             0.8888888888888888,
             "#fdca26"
            ],
            [
             1,
             "#f0f921"
            ]
           ],
           "sequentialminus": [
            [
             0,
             "#0d0887"
            ],
            [
             0.1111111111111111,
             "#46039f"
            ],
            [
             0.2222222222222222,
             "#7201a8"
            ],
            [
             0.3333333333333333,
             "#9c179e"
            ],
            [
             0.4444444444444444,
             "#bd3786"
            ],
            [
             0.5555555555555556,
             "#d8576b"
            ],
            [
             0.6666666666666666,
             "#ed7953"
            ],
            [
             0.7777777777777778,
             "#fb9f3a"
            ],
            [
             0.8888888888888888,
             "#fdca26"
            ],
            [
             1,
             "#f0f921"
            ]
           ]
          },
          "colorway": [
           "#636efa",
           "#EF553B",
           "#00cc96",
           "#ab63fa",
           "#FFA15A",
           "#19d3f3",
           "#FF6692",
           "#B6E880",
           "#FF97FF",
           "#FECB52"
          ],
          "font": {
           "color": "#f2f5fa"
          },
          "geo": {
           "bgcolor": "rgb(17,17,17)",
           "lakecolor": "rgb(17,17,17)",
           "landcolor": "rgb(17,17,17)",
           "showlakes": true,
           "showland": true,
           "subunitcolor": "#506784"
          },
          "hoverlabel": {
           "align": "left"
          },
          "hovermode": "closest",
          "mapbox": {
           "style": "dark"
          },
          "paper_bgcolor": "rgb(17,17,17)",
          "plot_bgcolor": "rgb(17,17,17)",
          "polar": {
           "angularaxis": {
            "gridcolor": "#506784",
            "linecolor": "#506784",
            "ticks": ""
           },
           "bgcolor": "rgb(17,17,17)",
           "radialaxis": {
            "gridcolor": "#506784",
            "linecolor": "#506784",
            "ticks": ""
           }
          },
          "scene": {
           "xaxis": {
            "backgroundcolor": "rgb(17,17,17)",
            "gridcolor": "#506784",
            "gridwidth": 2,
            "linecolor": "#506784",
            "showbackground": true,
            "ticks": "",
            "zerolinecolor": "#C8D4E3"
           },
           "yaxis": {
            "backgroundcolor": "rgb(17,17,17)",
            "gridcolor": "#506784",
            "gridwidth": 2,
            "linecolor": "#506784",
            "showbackground": true,
            "ticks": "",
            "zerolinecolor": "#C8D4E3"
           },
           "zaxis": {
            "backgroundcolor": "rgb(17,17,17)",
            "gridcolor": "#506784",
            "gridwidth": 2,
            "linecolor": "#506784",
            "showbackground": true,
            "ticks": "",
            "zerolinecolor": "#C8D4E3"
           }
          },
          "shapedefaults": {
           "line": {
            "color": "#f2f5fa"
           }
          },
          "sliderdefaults": {
           "bgcolor": "#C8D4E3",
           "bordercolor": "rgb(17,17,17)",
           "borderwidth": 1,
           "tickwidth": 0
          },
          "ternary": {
           "aaxis": {
            "gridcolor": "#506784",
            "linecolor": "#506784",
            "ticks": ""
           },
           "baxis": {
            "gridcolor": "#506784",
            "linecolor": "#506784",
            "ticks": ""
           },
           "bgcolor": "rgb(17,17,17)",
           "caxis": {
            "gridcolor": "#506784",
            "linecolor": "#506784",
            "ticks": ""
           }
          },
          "title": {
           "x": 0.05
          },
          "updatemenudefaults": {
           "bgcolor": "#506784",
           "borderwidth": 0
          },
          "xaxis": {
           "automargin": true,
           "gridcolor": "#283442",
           "linecolor": "#506784",
           "ticks": "",
           "title": {
            "standoff": 15
           },
           "zerolinecolor": "#283442",
           "zerolinewidth": 2
          },
          "yaxis": {
           "automargin": true,
           "gridcolor": "#283442",
           "linecolor": "#506784",
           "ticks": "",
           "title": {
            "standoff": 15
           },
           "zerolinecolor": "#283442",
           "zerolinewidth": 2
          }
         }
        },
        "title": {
         "text": "Trends in Channel Activity"
        },
        "xaxis": {
         "anchor": "y",
         "domain": [
          0,
          1
         ],
         "title": {
          "text": "Day"
         }
        },
        "yaxis": {
         "anchor": "x",
         "domain": [
          0,
          1
         ],
         "title": {
          "text": "Count"
         }
        }
       }
      }
     },
     "metadata": {},
     "output_type": "display_data"
    }
   ],
   "source": [
    "# 5) Trend Analysis for Channel-Related Metrics\n",
    "# Create line plots for New Channels, Channel Subscriptions, and Effective Channel Users\n",
    "fig5 = px.line(df, x='Day', y=['New_Channels', 'Channel_Subscriptions', 'Effective_Channel_Users'],\n",
    "               title='Trends in Channel Activity')\n",
    "fig5.update_xaxes(title_text='Day')\n",
    "fig5.update_yaxes(title_text='Count')\n",
    "fig5.update_layout(template=plotly_dark_template)"
   ]
  },
  {
   "attachments": {},
   "cell_type": "markdown",
   "metadata": {},
   "source": [
    "![plot](plots/5.png)"
   ]
  },
  {
   "attachments": {},
   "cell_type": "markdown",
   "metadata": {},
   "source": [
    "# 6) Goal: Increase Traffic by 20%\n",
    "\n",
    "I set a specific goal to increase traffic by 20%. To achieve this goal, I perform the following steps:\n",
    "\n",
    "- I define a variable `target_increase` and set it to 1.20, representing a 20% increase (1 + 20% = 1.20).\n",
    "- I calculate the current traffic level by extracting the last value of the 'Avg_Traffic_Per_User' column from the dataset and storing it in the variable `current_traffic`.\n",
    "\n",
    "Next, I calculate the necessary increase in traffic required to reach the 20% goal:\n",
    "\n",
    "- I calculate `increase_needed` as the difference between the target traffic level (20% higher than the current) and the current traffic level. This value represents the additional traffic required to meet the goal.\n",
    "\n",
    "By performing these calculations, I aim to determine the precise increase needed to achieve the specified traffic goal of a 20% increase."
   ]
  },
  {
   "cell_type": "code",
   "execution_count": 8,
   "metadata": {},
   "outputs": [],
   "source": [
    "# 6) Goal: Increase Traffic by 20%\n",
    "target_increase = 1.20  # 20% increase\n",
    "current_traffic = df['Avg_Traffic_Per_User'].iloc[-1]\n",
    "\n",
    "# Calculate the necessary increase in traffic\n",
    "increase_needed = current_traffic * target_increase - current_traffic"
   ]
  },
  {
   "attachments": {},
   "cell_type": "markdown",
   "metadata": {},
   "source": [
    "## 7) Calculate Impact of Changes in Metrics on Traffic Consumption\n",
    "\n",
    "I calculate the impact of changes in various metrics on traffic consumption. Each metric contributes to traffic consumption in a specific way, and I calculate their individual and cumulative impacts as follows:\n",
    "\n",
    "- `impact_forwarded_messages`: I assume that each additional message forward adds 0.05 to traffic consumption. I calculate the impact by multiplying the count of message forwards in the dataset by 0.05 and summing up these values.\n",
    "\n",
    "- `impact_live_streams`: I assume that each additional live stream adds 0.1 to traffic consumption. Similarly, I calculate the impact by multiplying the count of live streams (in the 'Live_Count' column) in the dataset by 0.1 and summing these values.\n",
    "\n",
    "- `impact_new_channels`: I assume that each new channel created adds 0.2 to traffic consumption. I calculate the impact by multiplying the count of new channels (in the 'New_Channels' column) in the dataset by 0.2 and summing these values.\n",
    "\n",
    "- `impact_channel_subscriptions`: I assume that each channel subscription adds 0.03 to traffic consumption. I calculate the impact by multiplying the count of channel subscriptions (in the 'Channel_Subscriptions' column) in the dataset by 0.03 and summing these values.\n",
    "\n",
    "Finally, I calculate the cumulative impact of these changes on traffic consumption by summing up the impacts of all four metrics. This cumulative impact provides an estimate of how these changes collectively affect the overall traffic consumption.\n",
    "\n",
    "By performing these calculations, I gain insights into the contributions of specific metrics to the overall traffic consumption within the dataset."
   ]
  },
  {
   "cell_type": "code",
   "execution_count": 9,
   "metadata": {},
   "outputs": [],
   "source": [
    "# 7) Calculate Impact of Changes in Metrics on Traffic Consumption\n",
    "# Assuming each additional message forward adds 0.05 to traffic\n",
    "impact_forwarded_messages = (df['Message_Forwards'] * 0.05).sum()\n",
    "\n",
    "# Assuming each additional live stream adds 0.1 to traffic\n",
    "impact_live_streams = (df['Live_Count'] * 0.1).sum()\n",
    "\n",
    "# Assuming each new channel created adds 0.2 to traffic\n",
    "impact_new_channels = (df['New_Channels'] * 0.2).sum()\n",
    "\n",
    "# Assuming each channel subscription adds 0.03 to traffic\n",
    "impact_channel_subscriptions = (df['Channel_Subscriptions'] * 0.03).sum()\n",
    "\n",
    "# Cumulative Impact of Changes\n",
    "cumulative_impact = impact_forwarded_messages + impact_live_streams + impact_new_channels + impact_channel_subscriptions"
   ]
  },
  {
   "attachments": {},
   "cell_type": "markdown",
   "metadata": {},
   "source": [
    "## 8) Statistical Analysis: Rolling Averages\n",
    "\n",
    "I perform statistical analysis by calculating rolling averages for two key message-related metrics: 'Message_Count' and 'Message_Forwards.' Rolling averages are computed to smooth out short-term fluctuations and highlight underlying trends over a specific window of time.\n",
    "\n",
    "- `df['Message_Count_Rolling_Avg']`: I calculate the rolling average for 'Message_Count' by applying a window of 7 days. This means that each data point in the new column represents the average message count over the past 7 days. The rolling average helps in visualizing the trend in message count over time while reducing noise from daily variations.\n",
    "\n",
    "- `df['Message_Forwards_Rolling_Avg']`: Similarly, I calculate the rolling average for 'Message_Forwards' using a window of 7 days. This new column contains values that represent the average number of message forwards over the past 7 days, providing a smoothed representation of the trend in message forwarding activity.\n",
    "\n",
    "By computing these rolling averages, I aim to identify and analyze longer-term patterns and trends in message-related metrics, which can be valuable for decision-making and forecasting."
   ]
  },
  {
   "cell_type": "code",
   "execution_count": 10,
   "metadata": {},
   "outputs": [],
   "source": [
    "# 8) Statistical Analysis: Rolling Averages\n",
    "df['Message_Count_Rolling_Avg'] = df['Message_Count'].rolling(window=7).mean()\n",
    "df['Message_Forwards_Rolling_Avg'] = df['Message_Forwards'].rolling(window=7).mean()"
   ]
  },
  {
   "attachments": {},
   "cell_type": "markdown",
   "metadata": {},
   "source": [
    "## 9) Statistical Analysis: Trend Analysis\n",
    "\n",
    "I perform trend analysis using linear regression to analyze the trends in two message-related metrics: 'Message_Count' and 'Message_Forwards.' Linear regression allows us to identify and quantify the linear trends in these metrics over time.\n",
    "\n",
    "- I create an array 'x' representing the time index (from 0 to the length of the dataset) to use as the independent variable.\n",
    "- 'y_message_count' and 'y_message_forwards' are defined as the dependent variables, representing the 'Message_Count' and 'Message_Forwards' columns, respectively.\n",
    "\n",
    "For 'Message_Count':\n",
    "- I perform linear regression by adding a constant term to 'x' (x_message_count) and fitting an Ordinary Least Squares (OLS) regression model to 'y_message_count.'\n",
    "- The result of the regression provides information about the trend in 'Message_Count,' and I extract the slope of the regression line (message_count_slope) to quantify this trend.\n",
    "\n",
    "For 'Message_Forwards':\n",
    "- Similar to 'Message_Count,' I perform linear regression for 'Message_Forwards' by adding a constant term to 'x' (x_message_forwards) and fitting an OLS regression model to 'y_message_forwards.'\n",
    "- The result of this regression provides insights into the trend in 'Message_Forwards,' and I extract the slope of the regression line (message_forwards_slope) to quantify this trend.\n",
    "\n",
    "These trend analyses using linear regression help in understanding whether there is a significant upward or downward trend in message count and message forwards over time. The slopes of the regression lines provide information about the rate of change for each metric.\n"
   ]
  },
  {
   "cell_type": "code",
   "execution_count": 11,
   "metadata": {},
   "outputs": [],
   "source": [
    "# 9) Statistical Analysis: Trend Analysis\n",
    "# Perform linear regression to analyze trends in Message Count and Message Forwards\n",
    "x = np.arange(len(df))\n",
    "y_message_count = df['Message_Count']\n",
    "y_message_forwards = df['Message_Forwards']\n",
    "\n",
    "# Trend analysis for Message Count\n",
    "x_message_count = sm.add_constant(x)\n",
    "model_message_count = sm.OLS(y_message_count, x_message_count).fit()\n",
    "message_count_slope = model_message_count.params[1]\n",
    "\n",
    "# Trend analysis for Message Forwards\n",
    "x_message_forwards = sm.add_constant(x)\n",
    "model_message_forwards = sm.OLS(y_message_forwards, x_message_forwards).fit()\n",
    "message_forwards_slope = model_message_forwards.params[1]"
   ]
  },
  {
   "attachments": {},
   "cell_type": "markdown",
   "metadata": {},
   "source": [
    "## 10) Statistical Analysis: Hypothesis Testing\n",
    "\n",
    "I perform a hypothesis test to compare the means of two message-related metrics: 'Message_Count' and 'Message_Forwards.' Specifically, I use a t-test to assess whether there is a statistically significant difference between the means of these two metrics.\n",
    "\n",
    "- I calculate the mean of 'Message_Count' and store it in the variable 'message_count_mean.'\n",
    "- I also calculate the mean of 'Message_Forwards' and store it in the variable 'message_forwards_mean.'\n",
    "\n",
    "Next, I perform a two-sample independent t-test:\n",
    "- I use the `stats.ttest_ind` function from the SciPy library to compare 'Message_Count' and 'Message_Forwards.'\n",
    "- I set the `equal_var` parameter to `False` since I assume that the variances of the two groups are not necessarily equal.\n",
    "- The t-test provides two key statistics:\n",
    "  - 't_stat': The calculated t-statistic, which measures the difference between the means relative to the variability in the data.\n",
    "  - 'p_value': The p-value associated with the t-test, which indicates the probability of observing the observed difference in means if there is no true difference.\n",
    "\n",
    "By performing this hypothesis test, I aim to determine whether there is a statistically significant difference in the means of message count and message forwards. The p-value will help me make an inference about whether this difference is likely to be due to random chance or if there is a genuine distinction between these metrics."
   ]
  },
  {
   "cell_type": "code",
   "execution_count": 12,
   "metadata": {},
   "outputs": [],
   "source": [
    "# 10) Statistical Analysis: Hypothesis Testing\n",
    "# Compare the means of Message Count and Message Forwards using t-test\n",
    "message_count_mean = df['Message_Count'].mean()\n",
    "message_forwards_mean = df['Message_Forwards'].mean()\n",
    "\n",
    "t_stat, p_value = stats.ttest_ind(df['Message_Count'], df['Message_Forwards'], equal_var=False)"
   ]
  },
  {
   "attachments": {},
   "cell_type": "markdown",
   "metadata": {},
   "source": [
    "## Creating and Displaying a Table of Results\n",
    "\n",
    "I create a structured table to store and display various results and metrics obtained from the analysis performed earlier. The table includes the following information:\n",
    "\n",
    "1. \"Current Traffic Consumption\": The current average traffic consumption.\n",
    "2. \"Increase Needed to Reach 20%\": The necessary increase in traffic consumption to achieve a 20% goal.\n",
    "3. \"Impact of Increased Forwarded Messages\": The impact on traffic consumption due to additional forwarded messages.\n",
    "4. \"Impact of Increased Live Streams\": The impact on traffic consumption due to additional live streams.\n",
    "5. \"Impact of Increased New Channels\": The impact on traffic consumption due to the creation of new channels.\n",
    "6. \"Impact of Increased Channel Subscriptions\": The impact on traffic consumption due to additional channel subscriptions.\n",
    "7. \"Cumulative Impact of Changes\": The cumulative impact of all changes on traffic consumption.\n",
    "8. \"Message Count Slope (Trend)\": The slope representing the trend in message count.\n",
    "9. \"Message Forwards Slope (Trend)\": The slope representing the trend in message forwards.\n",
    "10. \"Hypothesis Test p-value\": The p-value obtained from the hypothesis test comparing message count and message forwards means.\n",
    "\n",
    "I use the `tabulate` library to format the results into a well-organized table. The 'headers' variable defines the table headers, and the 'results_list' contains the corresponding values. The 'tablefmt' parameter specifies the formatting style for the table.\n",
    "\n",
    "Finally, I display the formatted table, which provides a concise summary of the key results and metrics obtained from the analysis."
   ]
  },
  {
   "cell_type": "code",
   "execution_count": 13,
   "metadata": {},
   "outputs": [
    {
     "name": "stdout",
     "output_type": "stream",
     "text": [
      "+-------------------------------------------+------------------------+\n",
      "|                  Metric                   |         Value          |\n",
      "+-------------------------------------------+------------------------+\n",
      "|        Current Traffic Consumption        |   225.53600000000003   |\n",
      "|       Increase Needed to Reach 20%        |   45.107200000000006   |\n",
      "|  Impact of Increased Forwarded Messages   |      273593152.0       |\n",
      "|     Impact of Increased Live Streams      |   2862864.0000000005   |\n",
      "|     Impact of Increased New Channels      |   1180697.6000000003   |\n",
      "| Impact of Increased Channel Subscriptions |      51262472.64       |\n",
      "|       Cumulative Impact of Changes        |      328899186.24      |\n",
      "|        Message Count Slope (Trend)        |  -1419516.3355578508   |\n",
      "|      Message Forwards Slope (Trend)       |   -90315.5871337638    |\n",
      "|          Hypothesis Test p-value          | 8.613059133902009e-117 |\n",
      "+-------------------------------------------+------------------------+\n"
     ]
    }
   ],
   "source": [
    "# Create a list of lists to store the results\n",
    "results_list = [\n",
    "    [\"Current Traffic Consumption\", current_traffic],\n",
    "    [\"Increase Needed to Reach 20%\", increase_needed],\n",
    "    [\"Impact of Increased Forwarded Messages\", impact_forwarded_messages],\n",
    "    [\"Impact of Increased Live Streams\", impact_live_streams],\n",
    "    [\"Impact of Increased New Channels\", impact_new_channels],\n",
    "    [\"Impact of Increased Channel Subscriptions\", impact_channel_subscriptions],\n",
    "    [\"Cumulative Impact of Changes\", cumulative_impact],\n",
    "    [\"Message Count Slope (Trend)\", message_count_slope],\n",
    "    [\"Message Forwards Slope (Trend)\", message_forwards_slope],\n",
    "    [\"Hypothesis Test p-value\", p_value]\n",
    "]\n",
    "\n",
    "# Define the table headers\n",
    "headers = [\"Metric\", \"Value\"]\n",
    "\n",
    "# Use the tabulate library to format the table\n",
    "table = tabulate.tabulate(results_list, headers, tablefmt=\"pretty\")\n",
    "\n",
    "# Display the formatted table\n",
    "print(table)"
   ]
  },
  {
   "attachments": {},
   "cell_type": "markdown",
   "metadata": {},
   "source": [
    "## Printing Summary of Trend Analysis\n",
    "\n",
    "In this cell, I print the summary of the trend analysis performed earlier for two message-related metrics: 'Message_Count' and 'Message_Forwards.'\n",
    "\n",
    "- `model_message_count.summary()`: I print the summary of the linear regression model that was fitted to analyze the trend in 'Message_Count.' This summary typically includes information such as the coefficients, R-squared value, t-statistic, and p-values associated with the model.\n",
    "\n",
    "- `model_message_forwards.summary()`: Similarly, I print the summary of the linear regression model fitted to analyze the trend in 'Message_Forwards.' This summary provides insights into the trend in message forwards and includes relevant statistical information.\n",
    "\n",
    "Printing these model summaries allows for a detailed examination of the statistical results and coefficients associated with the trend analysis. It helps in understanding the significance and direction of the trends in message count and message forwards over time."
   ]
  },
  {
   "cell_type": "code",
   "execution_count": 14,
   "metadata": {},
   "outputs": [
    {
     "name": "stdout",
     "output_type": "stream",
     "text": [
      "                            OLS Regression Results                            \n",
      "==============================================================================\n",
      "Dep. Variable:          Message_Count   R-squared:                       0.121\n",
      "Model:                            OLS   Adj. R-squared:                  0.111\n",
      "Method:                 Least Squares   F-statistic:                     12.40\n",
      "Date:                Sat, 07 Oct 2023   Prob (F-statistic):           0.000677\n",
      "Time:                        01:36:39   Log-Likelihood:                -1826.7\n",
      "No. Observations:                  92   AIC:                             3657.\n",
      "Df Residuals:                      90   BIC:                             3662.\n",
      "Df Model:                           1                                         \n",
      "Covariance Type:            nonrobust                                         \n",
      "==============================================================================\n",
      "                 coef    std err          t      P>|t|      [0.025      0.975]\n",
      "------------------------------------------------------------------------------\n",
      "const        2.09e+09   2.12e+07     98.401      0.000    2.05e+09    2.13e+09\n",
      "x1          -1.42e+06   4.03e+05     -3.521      0.001   -2.22e+06   -6.19e+05\n",
      "==============================================================================\n",
      "Omnibus:                       35.066   Durbin-Watson:                   0.586\n",
      "Prob(Omnibus):                  0.000   Jarque-Bera (JB):               68.081\n",
      "Skew:                          -1.501   Prob(JB):                     1.65e-15\n",
      "Kurtosis:                       5.957   Cond. No.                         105.\n",
      "==============================================================================\n",
      "\n",
      "Notes:\n",
      "[1] Standard Errors assume that the covariance matrix of the errors is correctly specified.\n",
      "                            OLS Regression Results                            \n",
      "==============================================================================\n",
      "Dep. Variable:       Message_Forwards   R-squared:                       0.221\n",
      "Model:                            OLS   Adj. R-squared:                  0.212\n",
      "Method:                 Least Squares   F-statistic:                     25.49\n",
      "Date:                Sat, 07 Oct 2023   Prob (F-statistic):           2.30e-06\n",
      "Time:                        01:36:39   Log-Likelihood:                -1540.1\n",
      "No. Observations:                  92   AIC:                             3084.\n",
      "Df Residuals:                      90   BIC:                             3089.\n",
      "Df Model:                           1                                         \n",
      "Covariance Type:            nonrobust                                         \n",
      "==============================================================================\n",
      "                 coef    std err          t      P>|t|      [0.025      0.975]\n",
      "------------------------------------------------------------------------------\n",
      "const       6.359e+07   9.42e+05     67.473      0.000    6.17e+07    6.55e+07\n",
      "x1         -9.032e+04   1.79e+04     -5.049      0.000   -1.26e+05   -5.48e+04\n",
      "==============================================================================\n",
      "Omnibus:                       30.046   Durbin-Watson:                   0.612\n",
      "Prob(Omnibus):                  0.000   Jarque-Bera (JB):               53.867\n",
      "Skew:                          -1.315   Prob(JB):                     2.01e-12\n",
      "Kurtosis:                       5.672   Cond. No.                         105.\n",
      "==============================================================================\n",
      "\n",
      "Notes:\n",
      "[1] Standard Errors assume that the covariance matrix of the errors is correctly specified.\n"
     ]
    }
   ],
   "source": [
    "# Print summary of trend analysis\n",
    "print(model_message_count.summary())\n",
    "print(model_message_forwards.summary())"
   ]
  },
  {
   "attachments": {},
   "cell_type": "markdown",
   "metadata": {},
   "source": [
    "# Additional Plots for Rolling Averages\n",
    "\n",
    "I create additional line plots to visualize the 7-day rolling averages of two message-related metrics: 'Message_Count' and 'Message_Forwards.' These rolling averages provide a smoothed representation of the trends in these metrics over time, highlighting longer-term patterns while reducing noise from daily variations.\n",
    "\n",
    "- I use the `px.line` function from the Plotly Express library to create these line plots.\n",
    "- The x-axis represents the 'Day' variable, indicating the timeline.\n",
    "- The y-axis displays the rolling averages of 'Message_Count' and 'Message_Forwards.'\n",
    "- The title of the plot is set as '7-Day Rolling Averages of Message Count and Message Forwards' to clearly indicate the content of the visualization.\n",
    "\n",
    "Additionally, I update the x-axis and y-axis labels to 'Day' and 'Rolling Average,' respectively, to provide clear information. The 'plotly_dark' template is applied to maintain a consistent dark-themed appearance.\n",
    "\n",
    "These additional plots help in gaining a more detailed understanding of the trends in message count and message forwards, emphasizing their smoothed patterns over the 7-day rolling periods."
   ]
  },
  {
   "cell_type": "code",
   "execution_count": 15,
   "metadata": {},
   "outputs": [
    {
     "data": {
      "application/vnd.plotly.v1+json": {
       "config": {
        "plotlyServerURL": "https://plot.ly"
       },
       "data": [
        {
         "hovertemplate": "variable=Message_Count_Rolling_Avg<br>Day=%{x}<br>value=%{y}<extra></extra>",
         "legendgroup": "Message_Count_Rolling_Avg",
         "line": {
          "color": "#636efa",
          "dash": "solid"
         },
         "marker": {
          "symbol": "circle"
         },
         "mode": "lines",
         "name": "Message_Count_Rolling_Avg",
         "orientation": "v",
         "showlegend": true,
         "type": "scatter",
         "x": [
          1,
          2,
          3,
          4,
          5,
          6,
          7,
          8,
          9,
          10,
          11,
          12,
          13,
          14,
          15,
          16,
          17,
          18,
          19,
          20,
          21,
          22,
          23,
          24,
          25,
          26,
          27,
          28,
          29,
          30,
          31,
          32,
          33,
          34,
          35,
          36,
          37,
          38,
          39,
          40,
          41,
          42,
          43,
          44,
          45,
          46,
          47,
          48,
          49,
          50,
          51,
          52,
          53,
          54,
          55,
          56,
          57,
          58,
          59,
          60,
          61,
          62,
          63,
          64,
          65,
          66,
          67,
          68,
          69,
          70,
          71,
          72,
          73,
          74,
          75,
          76,
          77,
          78,
          79,
          80,
          81,
          82,
          83,
          84,
          85,
          86,
          87,
          88,
          89,
          90,
          91,
          92
         ],
         "xaxis": "x",
         "y": [
          null,
          null,
          null,
          null,
          null,
          null,
          2205626971.428571,
          2208504685.714286,
          2199715200,
          2163744914.285714,
          2144288457.142857,
          2121071542.857143,
          2084666057.142857,
          2053462400,
          2036603428.5714285,
          2030880000,
          2050391314.2857144,
          2055570285.7142856,
          2052346057.142857,
          2066807314.2857144,
          2070770742.857143,
          2062220800,
          2047496228.5714285,
          2026719085.7142856,
          1988740114.2857144,
          1946951314.2857144,
          1942971428.5714285,
          1954539428.5714285,
          1962075885.7142856,
          1970570057.142857,
          1991043200,
          2025952000,
          2067054628.5714285,
          2068778514.2857144,
          2064399085.7142856,
          2061831314.2857144,
          2059483885.7142856,
          2049323428.5714285,
          2035873828.5714285,
          2025245257.142857,
          2021370971.4285715,
          2019460571.4285715,
          2014612114.2857144,
          2008234971.4285715,
          2003692342.857143,
          2003162971.4285715,
          1998699885.7142856,
          1996101485.7142856,
          1991651657.142857,
          1992517485.7142856,
          1997788800,
          2007975314.2857144,
          2017775542.857143,
          2029052342.857143,
          2035839085.7142856,
          2044568228.5714285,
          2049598628.5714285,
          2048300342.857143,
          2043686857.142857,
          2044050285.7142856,
          2039758628.5714285,
          2024239085.7142856,
          2007479314.2857144,
          1984885942.857143,
          1961380571.4285715,
          1925873371.4285715,
          1881701485.7142856,
          1835141942.857143,
          1825556571.4285715,
          1827033142.857143,
          1840928914.2857144,
          1863795200,
          1910002285.7142856,
          1958010514.2857144,
          2013644342.857143,
          2038896000,
          2049985371.4285715,
          2056203885.7142856,
          2056722285.7142856,
          2048894171.4285715,
          2044173714.2857144,
          2037480685.7142856,
          2032431542.857143,
          2030440228.5714285,
          2025250742.857143,
          2019137371.4285715,
          2013508571.4285715,
          2009450514.2857144,
          2009027200,
          2007531428.5714285,
          2007884342.857143,
          2007240228.5714285
         ],
         "yaxis": "y"
        },
        {
         "hovertemplate": "variable=Message_Forwards_Rolling_Avg<br>Day=%{x}<br>value=%{y}<extra></extra>",
         "legendgroup": "Message_Forwards_Rolling_Avg",
         "line": {
          "color": "#EF553B",
          "dash": "solid"
         },
         "marker": {
          "symbol": "circle"
         },
         "mode": "lines",
         "name": "Message_Forwards_Rolling_Avg",
         "orientation": "v",
         "showlegend": true,
         "type": "scatter",
         "x": [
          1,
          2,
          3,
          4,
          5,
          6,
          7,
          8,
          9,
          10,
          11,
          12,
          13,
          14,
          15,
          16,
          17,
          18,
          19,
          20,
          21,
          22,
          23,
          24,
          25,
          26,
          27,
          28,
          29,
          30,
          31,
          32,
          33,
          34,
          35,
          36,
          37,
          38,
          39,
          40,
          41,
          42,
          43,
          44,
          45,
          46,
          47,
          48,
          49,
          50,
          51,
          52,
          53,
          54,
          55,
          56,
          57,
          58,
          59,
          60,
          61,
          62,
          63,
          64,
          65,
          66,
          67,
          68,
          69,
          70,
          71,
          72,
          73,
          74,
          75,
          76,
          77,
          78,
          79,
          80,
          81,
          82,
          83,
          84,
          85,
          86,
          87,
          88,
          89,
          90,
          91,
          92
         ],
         "xaxis": "x",
         "y": [
          null,
          null,
          null,
          null,
          null,
          null,
          62636251.428571425,
          64834102.85714286,
          64892251.428571425,
          64164754.28571428,
          64133485.71428572,
          63973394.28571428,
          63505097.14285714,
          62857234.28571428,
          62549851.428571425,
          62769554.28571428,
          63816502.85714286,
          64265142.85714286,
          64546011.428571425,
          65275428.571428575,
          66129371.428571425,
          66782628.571428575,
          66839131.428571425,
          66612480,
          65624320,
          65036708.571428575,
          65038354.28571428,
          64892982.85714286,
          64518034.28571428,
          64203702.85714286,
          63940754.28571428,
          64076434.28571428,
          63835337.14285714,
          62677120,
          61661165.71428572,
          60596754.28571428,
          59532800,
          58563200,
          57379382.85714286,
          56488685.71428572,
          56184685.71428572,
          56048457.14285714,
          56060342.85714286,
          55778011.428571425,
          55636205.71428572,
          55968365.71428572,
          55876205.71428572,
          55733211.428571425,
          55608685.71428572,
          55475748.571428575,
          55665371.428571425,
          56007405.71428572,
          56326765.71428572,
          57009920,
          57304685.71428572,
          57666194.28571428,
          58189897.14285714,
          58579931.428571425,
          58837485.71428572,
          58969691.428571425,
          58893805.71428572,
          58632137.14285714,
          58182948.571428575,
          57427108.571428575,
          56473508.571428575,
          55102537.14285714,
          53097600,
          51023268.571428575,
          50751451.428571425,
          50807040,
          51245440,
          51998811.428571425,
          53391268.571428575,
          55411474.28571428,
          57797942.85714286,
          58551405.71428572,
          58765348.571428575,
          59015314.28571428,
          59148434.28571428,
          59101805.71428572,
          59168731.428571425,
          59105462.85714286,
          59079497.14285714,
          59134262.85714286,
          59028571.428571425,
          58850377.14285714,
          58693668.571428575,
          58719634.28571428,
          58571154.28571428,
          58566034.28571428,
          58681965.71428572,
          58756022.85714286
         ],
         "yaxis": "y"
        }
       ],
       "layout": {
        "legend": {
         "title": {
          "text": "variable"
         },
         "tracegroupgap": 0
        },
        "template": {
         "data": {
          "bar": [
           {
            "error_x": {
             "color": "#f2f5fa"
            },
            "error_y": {
             "color": "#f2f5fa"
            },
            "marker": {
             "line": {
              "color": "rgb(17,17,17)",
              "width": 0.5
             },
             "pattern": {
              "fillmode": "overlay",
              "size": 10,
              "solidity": 0.2
             }
            },
            "type": "bar"
           }
          ],
          "barpolar": [
           {
            "marker": {
             "line": {
              "color": "rgb(17,17,17)",
              "width": 0.5
             },
             "pattern": {
              "fillmode": "overlay",
              "size": 10,
              "solidity": 0.2
             }
            },
            "type": "barpolar"
           }
          ],
          "carpet": [
           {
            "aaxis": {
             "endlinecolor": "#A2B1C6",
             "gridcolor": "#506784",
             "linecolor": "#506784",
             "minorgridcolor": "#506784",
             "startlinecolor": "#A2B1C6"
            },
            "baxis": {
             "endlinecolor": "#A2B1C6",
             "gridcolor": "#506784",
             "linecolor": "#506784",
             "minorgridcolor": "#506784",
             "startlinecolor": "#A2B1C6"
            },
            "type": "carpet"
           }
          ],
          "choropleth": [
           {
            "colorbar": {
             "outlinewidth": 0,
             "ticks": ""
            },
            "type": "choropleth"
           }
          ],
          "contour": [
           {
            "colorbar": {
             "outlinewidth": 0,
             "ticks": ""
            },
            "colorscale": [
             [
              0,
              "#0d0887"
             ],
             [
              0.1111111111111111,
              "#46039f"
             ],
             [
              0.2222222222222222,
              "#7201a8"
             ],
             [
              0.3333333333333333,
              "#9c179e"
             ],
             [
              0.4444444444444444,
              "#bd3786"
             ],
             [
              0.5555555555555556,
              "#d8576b"
             ],
             [
              0.6666666666666666,
              "#ed7953"
             ],
             [
              0.7777777777777778,
              "#fb9f3a"
             ],
             [
              0.8888888888888888,
              "#fdca26"
             ],
             [
              1,
              "#f0f921"
             ]
            ],
            "type": "contour"
           }
          ],
          "contourcarpet": [
           {
            "colorbar": {
             "outlinewidth": 0,
             "ticks": ""
            },
            "type": "contourcarpet"
           }
          ],
          "heatmap": [
           {
            "colorbar": {
             "outlinewidth": 0,
             "ticks": ""
            },
            "colorscale": [
             [
              0,
              "#0d0887"
             ],
             [
              0.1111111111111111,
              "#46039f"
             ],
             [
              0.2222222222222222,
              "#7201a8"
             ],
             [
              0.3333333333333333,
              "#9c179e"
             ],
             [
              0.4444444444444444,
              "#bd3786"
             ],
             [
              0.5555555555555556,
              "#d8576b"
             ],
             [
              0.6666666666666666,
              "#ed7953"
             ],
             [
              0.7777777777777778,
              "#fb9f3a"
             ],
             [
              0.8888888888888888,
              "#fdca26"
             ],
             [
              1,
              "#f0f921"
             ]
            ],
            "type": "heatmap"
           }
          ],
          "heatmapgl": [
           {
            "colorbar": {
             "outlinewidth": 0,
             "ticks": ""
            },
            "colorscale": [
             [
              0,
              "#0d0887"
             ],
             [
              0.1111111111111111,
              "#46039f"
             ],
             [
              0.2222222222222222,
              "#7201a8"
             ],
             [
              0.3333333333333333,
              "#9c179e"
             ],
             [
              0.4444444444444444,
              "#bd3786"
             ],
             [
              0.5555555555555556,
              "#d8576b"
             ],
             [
              0.6666666666666666,
              "#ed7953"
             ],
             [
              0.7777777777777778,
              "#fb9f3a"
             ],
             [
              0.8888888888888888,
              "#fdca26"
             ],
             [
              1,
              "#f0f921"
             ]
            ],
            "type": "heatmapgl"
           }
          ],
          "histogram": [
           {
            "marker": {
             "pattern": {
              "fillmode": "overlay",
              "size": 10,
              "solidity": 0.2
             }
            },
            "type": "histogram"
           }
          ],
          "histogram2d": [
           {
            "colorbar": {
             "outlinewidth": 0,
             "ticks": ""
            },
            "colorscale": [
             [
              0,
              "#0d0887"
             ],
             [
              0.1111111111111111,
              "#46039f"
             ],
             [
              0.2222222222222222,
              "#7201a8"
             ],
             [
              0.3333333333333333,
              "#9c179e"
             ],
             [
              0.4444444444444444,
              "#bd3786"
             ],
             [
              0.5555555555555556,
              "#d8576b"
             ],
             [
              0.6666666666666666,
              "#ed7953"
             ],
             [
              0.7777777777777778,
              "#fb9f3a"
             ],
             [
              0.8888888888888888,
              "#fdca26"
             ],
             [
              1,
              "#f0f921"
             ]
            ],
            "type": "histogram2d"
           }
          ],
          "histogram2dcontour": [
           {
            "colorbar": {
             "outlinewidth": 0,
             "ticks": ""
            },
            "colorscale": [
             [
              0,
              "#0d0887"
             ],
             [
              0.1111111111111111,
              "#46039f"
             ],
             [
              0.2222222222222222,
              "#7201a8"
             ],
             [
              0.3333333333333333,
              "#9c179e"
             ],
             [
              0.4444444444444444,
              "#bd3786"
             ],
             [
              0.5555555555555556,
              "#d8576b"
             ],
             [
              0.6666666666666666,
              "#ed7953"
             ],
             [
              0.7777777777777778,
              "#fb9f3a"
             ],
             [
              0.8888888888888888,
              "#fdca26"
             ],
             [
              1,
              "#f0f921"
             ]
            ],
            "type": "histogram2dcontour"
           }
          ],
          "mesh3d": [
           {
            "colorbar": {
             "outlinewidth": 0,
             "ticks": ""
            },
            "type": "mesh3d"
           }
          ],
          "parcoords": [
           {
            "line": {
             "colorbar": {
              "outlinewidth": 0,
              "ticks": ""
             }
            },
            "type": "parcoords"
           }
          ],
          "pie": [
           {
            "automargin": true,
            "type": "pie"
           }
          ],
          "scatter": [
           {
            "marker": {
             "line": {
              "color": "#283442"
             }
            },
            "type": "scatter"
           }
          ],
          "scatter3d": [
           {
            "line": {
             "colorbar": {
              "outlinewidth": 0,
              "ticks": ""
             }
            },
            "marker": {
             "colorbar": {
              "outlinewidth": 0,
              "ticks": ""
             }
            },
            "type": "scatter3d"
           }
          ],
          "scattercarpet": [
           {
            "marker": {
             "colorbar": {
              "outlinewidth": 0,
              "ticks": ""
             }
            },
            "type": "scattercarpet"
           }
          ],
          "scattergeo": [
           {
            "marker": {
             "colorbar": {
              "outlinewidth": 0,
              "ticks": ""
             }
            },
            "type": "scattergeo"
           }
          ],
          "scattergl": [
           {
            "marker": {
             "line": {
              "color": "#283442"
             }
            },
            "type": "scattergl"
           }
          ],
          "scattermapbox": [
           {
            "marker": {
             "colorbar": {
              "outlinewidth": 0,
              "ticks": ""
             }
            },
            "type": "scattermapbox"
           }
          ],
          "scatterpolar": [
           {
            "marker": {
             "colorbar": {
              "outlinewidth": 0,
              "ticks": ""
             }
            },
            "type": "scatterpolar"
           }
          ],
          "scatterpolargl": [
           {
            "marker": {
             "colorbar": {
              "outlinewidth": 0,
              "ticks": ""
             }
            },
            "type": "scatterpolargl"
           }
          ],
          "scatterternary": [
           {
            "marker": {
             "colorbar": {
              "outlinewidth": 0,
              "ticks": ""
             }
            },
            "type": "scatterternary"
           }
          ],
          "surface": [
           {
            "colorbar": {
             "outlinewidth": 0,
             "ticks": ""
            },
            "colorscale": [
             [
              0,
              "#0d0887"
             ],
             [
              0.1111111111111111,
              "#46039f"
             ],
             [
              0.2222222222222222,
              "#7201a8"
             ],
             [
              0.3333333333333333,
              "#9c179e"
             ],
             [
              0.4444444444444444,
              "#bd3786"
             ],
             [
              0.5555555555555556,
              "#d8576b"
             ],
             [
              0.6666666666666666,
              "#ed7953"
             ],
             [
              0.7777777777777778,
              "#fb9f3a"
             ],
             [
              0.8888888888888888,
              "#fdca26"
             ],
             [
              1,
              "#f0f921"
             ]
            ],
            "type": "surface"
           }
          ],
          "table": [
           {
            "cells": {
             "fill": {
              "color": "#506784"
             },
             "line": {
              "color": "rgb(17,17,17)"
             }
            },
            "header": {
             "fill": {
              "color": "#2a3f5f"
             },
             "line": {
              "color": "rgb(17,17,17)"
             }
            },
            "type": "table"
           }
          ]
         },
         "layout": {
          "annotationdefaults": {
           "arrowcolor": "#f2f5fa",
           "arrowhead": 0,
           "arrowwidth": 1
          },
          "autotypenumbers": "strict",
          "coloraxis": {
           "colorbar": {
            "outlinewidth": 0,
            "ticks": ""
           }
          },
          "colorscale": {
           "diverging": [
            [
             0,
             "#8e0152"
            ],
            [
             0.1,
             "#c51b7d"
            ],
            [
             0.2,
             "#de77ae"
            ],
            [
             0.3,
             "#f1b6da"
            ],
            [
             0.4,
             "#fde0ef"
            ],
            [
             0.5,
             "#f7f7f7"
            ],
            [
             0.6,
             "#e6f5d0"
            ],
            [
             0.7,
             "#b8e186"
            ],
            [
             0.8,
             "#7fbc41"
            ],
            [
             0.9,
             "#4d9221"
            ],
            [
             1,
             "#276419"
            ]
           ],
           "sequential": [
            [
             0,
             "#0d0887"
            ],
            [
             0.1111111111111111,
             "#46039f"
            ],
            [
             0.2222222222222222,
             "#7201a8"
            ],
            [
             0.3333333333333333,
             "#9c179e"
            ],
            [
             0.4444444444444444,
             "#bd3786"
            ],
            [
             0.5555555555555556,
             "#d8576b"
            ],
            [
             0.6666666666666666,
             "#ed7953"
            ],
            [
             0.7777777777777778,
             "#fb9f3a"
            ],
            [
             0.8888888888888888,
             "#fdca26"
            ],
            [
             1,
             "#f0f921"
            ]
           ],
           "sequentialminus": [
            [
             0,
             "#0d0887"
            ],
            [
             0.1111111111111111,
             "#46039f"
            ],
            [
             0.2222222222222222,
             "#7201a8"
            ],
            [
             0.3333333333333333,
             "#9c179e"
            ],
            [
             0.4444444444444444,
             "#bd3786"
            ],
            [
             0.5555555555555556,
             "#d8576b"
            ],
            [
             0.6666666666666666,
             "#ed7953"
            ],
            [
             0.7777777777777778,
             "#fb9f3a"
            ],
            [
             0.8888888888888888,
             "#fdca26"
            ],
            [
             1,
             "#f0f921"
            ]
           ]
          },
          "colorway": [
           "#636efa",
           "#EF553B",
           "#00cc96",
           "#ab63fa",
           "#FFA15A",
           "#19d3f3",
           "#FF6692",
           "#B6E880",
           "#FF97FF",
           "#FECB52"
          ],
          "font": {
           "color": "#f2f5fa"
          },
          "geo": {
           "bgcolor": "rgb(17,17,17)",
           "lakecolor": "rgb(17,17,17)",
           "landcolor": "rgb(17,17,17)",
           "showlakes": true,
           "showland": true,
           "subunitcolor": "#506784"
          },
          "hoverlabel": {
           "align": "left"
          },
          "hovermode": "closest",
          "mapbox": {
           "style": "dark"
          },
          "paper_bgcolor": "rgb(17,17,17)",
          "plot_bgcolor": "rgb(17,17,17)",
          "polar": {
           "angularaxis": {
            "gridcolor": "#506784",
            "linecolor": "#506784",
            "ticks": ""
           },
           "bgcolor": "rgb(17,17,17)",
           "radialaxis": {
            "gridcolor": "#506784",
            "linecolor": "#506784",
            "ticks": ""
           }
          },
          "scene": {
           "xaxis": {
            "backgroundcolor": "rgb(17,17,17)",
            "gridcolor": "#506784",
            "gridwidth": 2,
            "linecolor": "#506784",
            "showbackground": true,
            "ticks": "",
            "zerolinecolor": "#C8D4E3"
           },
           "yaxis": {
            "backgroundcolor": "rgb(17,17,17)",
            "gridcolor": "#506784",
            "gridwidth": 2,
            "linecolor": "#506784",
            "showbackground": true,
            "ticks": "",
            "zerolinecolor": "#C8D4E3"
           },
           "zaxis": {
            "backgroundcolor": "rgb(17,17,17)",
            "gridcolor": "#506784",
            "gridwidth": 2,
            "linecolor": "#506784",
            "showbackground": true,
            "ticks": "",
            "zerolinecolor": "#C8D4E3"
           }
          },
          "shapedefaults": {
           "line": {
            "color": "#f2f5fa"
           }
          },
          "sliderdefaults": {
           "bgcolor": "#C8D4E3",
           "bordercolor": "rgb(17,17,17)",
           "borderwidth": 1,
           "tickwidth": 0
          },
          "ternary": {
           "aaxis": {
            "gridcolor": "#506784",
            "linecolor": "#506784",
            "ticks": ""
           },
           "baxis": {
            "gridcolor": "#506784",
            "linecolor": "#506784",
            "ticks": ""
           },
           "bgcolor": "rgb(17,17,17)",
           "caxis": {
            "gridcolor": "#506784",
            "linecolor": "#506784",
            "ticks": ""
           }
          },
          "title": {
           "x": 0.05
          },
          "updatemenudefaults": {
           "bgcolor": "#506784",
           "borderwidth": 0
          },
          "xaxis": {
           "automargin": true,
           "gridcolor": "#283442",
           "linecolor": "#506784",
           "ticks": "",
           "title": {
            "standoff": 15
           },
           "zerolinecolor": "#283442",
           "zerolinewidth": 2
          },
          "yaxis": {
           "automargin": true,
           "gridcolor": "#283442",
           "linecolor": "#506784",
           "ticks": "",
           "title": {
            "standoff": 15
           },
           "zerolinecolor": "#283442",
           "zerolinewidth": 2
          }
         }
        },
        "title": {
         "text": "7-Day Rolling Averages of Message Count and Message Forwards"
        },
        "xaxis": {
         "anchor": "y",
         "domain": [
          0,
          1
         ],
         "title": {
          "text": "Day"
         }
        },
        "yaxis": {
         "anchor": "x",
         "domain": [
          0,
          1
         ],
         "title": {
          "text": "Rolling Average"
         }
        }
       }
      }
     },
     "metadata": {},
     "output_type": "display_data"
    }
   ],
   "source": [
    "# Additional plots for Rolling Averages\n",
    "fig6 = px.line(df, x='Day', y=['Message_Count_Rolling_Avg', 'Message_Forwards_Rolling_Avg'],\n",
    "               title='7-Day Rolling Averages of Message Count and Message Forwards')\n",
    "fig6.update_xaxes(title_text='Day')\n",
    "fig6.update_yaxes(title_text='Rolling Average')\n",
    "fig6.update_layout(template=plotly_dark_template)\n",
    "fig6.show()"
   ]
  },
  {
   "attachments": {},
   "cell_type": "markdown",
   "metadata": {},
   "source": [
    "![plot](plots/6.png)"
   ]
  }
 ],
 "metadata": {
  "language_info": {
   "name": "python"
  },
  "orig_nbformat": 4
 },
 "nbformat": 4,
 "nbformat_minor": 2
}
